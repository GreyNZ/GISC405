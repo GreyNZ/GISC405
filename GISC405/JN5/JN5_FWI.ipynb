{
 "cells": [
  {
   "cell_type": "markdown",
   "id": "58cbbb96-b673-4c31-873b-3addf109e81a",
   "metadata": {},
   "source": [
    "## Intro\n",
    "\n",
    "\n",
    "New Zealand Modelling Data Consortium is \"a partnership between Universities, Crown Research Institutes, and research and public service organizations\" (https://www.envlib.org). The consortium hosts the Open Environmental Digital Library which contains a comprehensive set New Zealand focused environmental geospatial datasets which continues to grow. The dataset has been processed to be easily accessible through a companion python library (https://tethysts.readthedocs.io). In this lab, you will learn how to access the datasets in the digital library through this python interface. We will use the provided Fire Weather Index (FWI) calculator to calculate FWI and other fire weather indices from the Fire Emergency New Zealand's extensive weather stations."
   ]
  },
  {
   "cell_type": "code",
   "execution_count": 1,
   "id": "dc820170-81d1-4145-bb46-47b454d7867d",
   "metadata": {},
   "outputs": [],
   "source": [
    "# fireweather.niwa.co.nz   #fire stuff used for our fire warnings. only uses weather data no real fuel data\n",
    "\n",
    "# nasa one   https://data.giss.nasa.gov/impacts/gfwed/\n",
    "\n",
    "# envlib.org   # multi company/uni nz lib of gis stuff"
   ]
  },
  {
   "cell_type": "code",
   "execution_count": 2,
   "id": "6d2e3f24-c9d4-4151-bc6d-75a675889871",
   "metadata": {},
   "outputs": [],
   "source": [
    "import datetime\n",
    "import numpy as np\n",
    "import xarray as xr\n",
    "import warnings\n",
    "import fwi_nz as fwi_calc  # The fwi calculator, make sure to have fwi_nz.py in the same folder as this notebook\n",
    "warnings.filterwarnings('ignore')"
   ]
  },
  {
   "cell_type": "markdown",
   "id": "1488da1d-d4d4-472b-9b8e-d6c30daea4d6",
   "metadata": {},
   "source": [
    "Below lines import the tethys library and some functions built for this course to help interacting with tethys easier."
   ]
  },
  {
   "cell_type": "code",
   "execution_count": 3,
   "id": "c8a6c8fb-1fa8-4598-b299-f995a7cd0f9f",
   "metadata": {},
   "outputs": [],
   "source": [
    "import envlib_helper as envlib\n",
    "from tethysts import Tethys"
   ]
  },
  {
   "cell_type": "markdown",
   "id": "d82bffa2-c3be-4fed-b454-5624f6521a81",
   "metadata": {},
   "source": [
    "The line below initializes the Tethys and gives you a tehtys instance that acts like a window to request data."
   ]
  },
  {
   "cell_type": "code",
   "execution_count": 4,
   "id": "2ca461d7-26d4-44cb-aca6-02d9aed06a3d",
   "metadata": {},
   "outputs": [],
   "source": [
    "ts = Tethys()"
   ]
  },
  {
   "cell_type": "code",
   "execution_count": 5,
   "id": "ab3fd200-3abb-4b44-bc00-d7c5941e6ad4",
   "metadata": {},
   "outputs": [
    {
     "data": {
      "text/plain": [
       "<tethysts.main.Tethys at 0x7ff52f5ee8e0>"
      ]
     },
     "execution_count": 5,
     "metadata": {},
     "output_type": "execute_result"
    }
   ],
   "source": [
    "ts"
   ]
  },
  {
   "cell_type": "code",
   "execution_count": 6,
   "id": "bea76b04-a994-4ef0-90c8-89fe6a815b7f",
   "metadata": {},
   "outputs": [],
   "source": [
    "datasets = ts.datasets  #list of dicts holding datasets"
   ]
  },
  {
   "cell_type": "code",
   "execution_count": 7,
   "id": "f9d1701b-ad8a-435b-bcb9-d19ce6043213",
   "metadata": {
    "tags": []
   },
   "outputs": [
    {
     "data": {
      "text/plain": [
       "{'feature': 'waterway',\n",
       " 'parameter': 'water_use',\n",
       " 'method': 'simulation',\n",
       " 'product_code': 'WAP allocation method 1',\n",
       " 'owner': 'Environment Southland',\n",
       " 'aggregation_statistic': 'cumulative',\n",
       " 'frequency_interval': '24H',\n",
       " 'utc_offset': '12H',\n",
       " 'dataset_id': '0a91ee3135dca335d7300894',\n",
       " 'units': 'm^3',\n",
       " 'license': 'https://creativecommons.org/licenses/by/4.0/',\n",
       " 'attribution': 'Data licenced by Environment Southland',\n",
       " 'spatial_distribution': 'sparse',\n",
       " 'geometry_type': 'Point',\n",
       " 'grouping': 'none',\n",
       " 'extent': {'type': 'Polygon',\n",
       "  'coordinates': [[[169.11231, -46.6625],\n",
       "    [169.11231, -44.76767],\n",
       "    [167.51013, -44.76767],\n",
       "    [167.51013, -46.6625],\n",
       "    [169.11231, -46.6625]]]},\n",
       " 'time_range': {'from_date': '2000-06-30T12:00:00',\n",
       "  'to_date': '2022-03-29T12:00:00'},\n",
       " 'heights': [0.0],\n",
       " 'cf_standard_name': 'water_use',\n",
       " 'precision': 0.01,\n",
       " 'description': 'This dataset is an estimate of the usage split by the water abstraction point (WAP) in Environment Southland (ES). The method ingests measured usage and consenting data (including the stream depletion ratios associated with the wells). If the abstraction site is a groundwater well and if there is a stream depletion ratio assigned by ES, then a proportion of that consented rate is estimated as stream depleting.',\n",
       " 'properties': {'encoding': {'water_use': {'scale_factor': 0.01,\n",
       "    'dtype': 'int32',\n",
       "    '_FillValue': -9999}}},\n",
       " 'version': 2}"
      ]
     },
     "execution_count": 7,
     "metadata": {},
     "output_type": "execute_result"
    }
   ],
   "source": [
    "datasets[0]"
   ]
  },
  {
   "cell_type": "markdown",
   "id": "50a75ceb-0934-44a8-b849-e3e9416e3d5c",
   "metadata": {},
   "source": [
    "This function below will print all the datasets available to a table and also save it as a excel file in the current folder."
   ]
  },
  {
   "cell_type": "code",
   "execution_count": 8,
   "id": "2e6ef5b3-7e9f-4eb6-8cbe-97adc144291a",
   "metadata": {},
   "outputs": [
    {
     "data": {
      "text/html": [
       "<div>\n",
       "<style scoped>\n",
       "    .dataframe tbody tr th:only-of-type {\n",
       "        vertical-align: middle;\n",
       "    }\n",
       "\n",
       "    .dataframe tbody tr th {\n",
       "        vertical-align: top;\n",
       "    }\n",
       "\n",
       "    .dataframe thead th {\n",
       "        text-align: right;\n",
       "    }\n",
       "</style>\n",
       "<table border=\"1\" class=\"dataframe\">\n",
       "  <thead>\n",
       "    <tr style=\"text-align: right;\">\n",
       "      <th></th>\n",
       "      <th></th>\n",
       "      <th></th>\n",
       "      <th>method</th>\n",
       "      <th>product_code</th>\n",
       "      <th>aggregation_statistic</th>\n",
       "      <th>frequency_interval</th>\n",
       "      <th>utc_offset</th>\n",
       "      <th>...</th>\n",
       "      <th>product_description</th>\n",
       "      <th>parent_datasets</th>\n",
       "      <th>result_type</th>\n",
       "      <th>system_version</th>\n",
       "      <th>chunk_parameters</th>\n",
       "    </tr>\n",
       "    <tr>\n",
       "      <th>feature</th>\n",
       "      <th>parameter</th>\n",
       "      <th>owner</th>\n",
       "      <th></th>\n",
       "      <th></th>\n",
       "      <th></th>\n",
       "      <th></th>\n",
       "      <th></th>\n",
       "      <th></th>\n",
       "      <th></th>\n",
       "      <th></th>\n",
       "      <th></th>\n",
       "      <th></th>\n",
       "      <th></th>\n",
       "    </tr>\n",
       "  </thead>\n",
       "  <tbody>\n",
       "    <tr>\n",
       "      <th rowspan=\"5\" valign=\"top\">atmosphere</th>\n",
       "      <th rowspan=\"5\" valign=\"top\">barometric_pressure</th>\n",
       "      <th>ECMWF</th>\n",
       "      <td>simulation</td>\n",
       "      <td>reanalysis-era5-land</td>\n",
       "      <td>instantaneous</td>\n",
       "      <td>H</td>\n",
       "      <td>0H</td>\n",
       "      <td>...</td>\n",
       "      <td>ERA5-Land is a reanalysis dataset providing a ...</td>\n",
       "      <td>NaN</td>\n",
       "      <td>NaN</td>\n",
       "      <td>NaN</td>\n",
       "      <td>NaN</td>\n",
       "    </tr>\n",
       "    <tr>\n",
       "      <th>Met Solutions</th>\n",
       "      <td>simulation</td>\n",
       "      <td>WRF NZ South Island Central Otago 3km</td>\n",
       "      <td>instantaneous</td>\n",
       "      <td>H</td>\n",
       "      <td>0H</td>\n",
       "      <td>...</td>\n",
       "      <td>The Weather Research and Forecasting (WRF) mod...</td>\n",
       "      <td>NaN</td>\n",
       "      <td>NaN</td>\n",
       "      <td>NaN</td>\n",
       "      <td>NaN</td>\n",
       "    </tr>\n",
       "    <tr>\n",
       "      <th>NZ Open Modelling Consortium</th>\n",
       "      <td>simulation</td>\n",
       "      <td>UC WRF NZ South Island North Canterbury 1km</td>\n",
       "      <td>instantaneous</td>\n",
       "      <td>H</td>\n",
       "      <td>0H</td>\n",
       "      <td>...</td>\n",
       "      <td>The Weather Research and Forecasting (WRF) mod...</td>\n",
       "      <td>NaN</td>\n",
       "      <td>NaN</td>\n",
       "      <td>NaN</td>\n",
       "      <td>NaN</td>\n",
       "    </tr>\n",
       "    <tr>\n",
       "      <th>NZ Open Modelling Consortium</th>\n",
       "      <td>simulation</td>\n",
       "      <td>UC WRF NZ South Island Central Otago 1km</td>\n",
       "      <td>instantaneous</td>\n",
       "      <td>H</td>\n",
       "      <td>0H</td>\n",
       "      <td>...</td>\n",
       "      <td>The Weather Research and Forecasting (WRF) mod...</td>\n",
       "      <td>NaN</td>\n",
       "      <td>NaN</td>\n",
       "      <td>NaN</td>\n",
       "      <td>NaN</td>\n",
       "    </tr>\n",
       "    <tr>\n",
       "      <th>NZ Open Modelling Consortium</th>\n",
       "      <td>simulation</td>\n",
       "      <td>UC WRF NZ South Island Marlborough Nelson 1km</td>\n",
       "      <td>instantaneous</td>\n",
       "      <td>H</td>\n",
       "      <td>0H</td>\n",
       "      <td>...</td>\n",
       "      <td>The Weather Research and Forecasting (WRF) mod...</td>\n",
       "      <td>NaN</td>\n",
       "      <td>NaN</td>\n",
       "      <td>NaN</td>\n",
       "      <td>NaN</td>\n",
       "    </tr>\n",
       "    <tr>\n",
       "      <th>...</th>\n",
       "      <th>...</th>\n",
       "      <th>...</th>\n",
       "      <td>...</td>\n",
       "      <td>...</td>\n",
       "      <td>...</td>\n",
       "      <td>...</td>\n",
       "      <td>...</td>\n",
       "      <td>...</td>\n",
       "      <td>...</td>\n",
       "      <td>...</td>\n",
       "      <td>...</td>\n",
       "      <td>...</td>\n",
       "      <td>...</td>\n",
       "    </tr>\n",
       "    <tr>\n",
       "      <th rowspan=\"5\" valign=\"top\">waterway</th>\n",
       "      <th rowspan=\"2\" valign=\"top\">temperature</th>\n",
       "      <th>Environment Canterbury</th>\n",
       "      <td>sensor_recording</td>\n",
       "      <td>quality_controlled_data</td>\n",
       "      <td>mean</td>\n",
       "      <td>1H</td>\n",
       "      <td>0H</td>\n",
       "      <td>...</td>\n",
       "      <td>NaN</td>\n",
       "      <td>NaN</td>\n",
       "      <td>NaN</td>\n",
       "      <td>NaN</td>\n",
       "      <td>NaN</td>\n",
       "    </tr>\n",
       "    <tr>\n",
       "      <th>Environment Canterbury</th>\n",
       "      <td>field_activity</td>\n",
       "      <td>quality_controlled_data</td>\n",
       "      <td>sporadic</td>\n",
       "      <td>T</td>\n",
       "      <td>0H</td>\n",
       "      <td>...</td>\n",
       "      <td>NaN</td>\n",
       "      <td>NaN</td>\n",
       "      <td>NaN</td>\n",
       "      <td>NaN</td>\n",
       "      <td>NaN</td>\n",
       "    </tr>\n",
       "    <tr>\n",
       "      <th rowspan=\"3\" valign=\"top\">water_use</th>\n",
       "      <th>Environment Southland</th>\n",
       "      <td>simulation</td>\n",
       "      <td>WAP allocation method 1</td>\n",
       "      <td>cumulative</td>\n",
       "      <td>24H</td>\n",
       "      <td>12H</td>\n",
       "      <td>...</td>\n",
       "      <td>NaN</td>\n",
       "      <td>NaN</td>\n",
       "      <td>NaN</td>\n",
       "      <td>NaN</td>\n",
       "      <td>NaN</td>\n",
       "    </tr>\n",
       "    <tr>\n",
       "      <th>Environment Southland</th>\n",
       "      <td>simulation</td>\n",
       "      <td>estimation method 1</td>\n",
       "      <td>cumulative</td>\n",
       "      <td>24H</td>\n",
       "      <td>12H</td>\n",
       "      <td>...</td>\n",
       "      <td>NaN</td>\n",
       "      <td>NaN</td>\n",
       "      <td>NaN</td>\n",
       "      <td>NaN</td>\n",
       "      <td>NaN</td>\n",
       "    </tr>\n",
       "    <tr>\n",
       "      <th>Environment Southland</th>\n",
       "      <td>simulation</td>\n",
       "      <td>stream depletion method 1</td>\n",
       "      <td>mean</td>\n",
       "      <td>24H</td>\n",
       "      <td>12H</td>\n",
       "      <td>...</td>\n",
       "      <td>NaN</td>\n",
       "      <td>NaN</td>\n",
       "      <td>NaN</td>\n",
       "      <td>NaN</td>\n",
       "      <td>NaN</td>\n",
       "    </tr>\n",
       "  </tbody>\n",
       "</table>\n",
       "<p>129 rows × 27 columns</p>\n",
       "</div>"
      ],
      "text/plain": [
       "                                                                       method  \\\n",
       "feature    parameter           owner                                            \n",
       "atmosphere barometric_pressure ECMWF                               simulation   \n",
       "                               Met Solutions                       simulation   \n",
       "                               NZ Open Modelling Consortium        simulation   \n",
       "                               NZ Open Modelling Consortium        simulation   \n",
       "                               NZ Open Modelling Consortium        simulation   \n",
       "...                                                                       ...   \n",
       "waterway   temperature         Environment Canterbury        sensor_recording   \n",
       "                               Environment Canterbury          field_activity   \n",
       "           water_use           Environment Southland               simulation   \n",
       "                               Environment Southland               simulation   \n",
       "                               Environment Southland               simulation   \n",
       "\n",
       "                                                                                              product_code  \\\n",
       "feature    parameter           owner                                                                         \n",
       "atmosphere barometric_pressure ECMWF                                                  reanalysis-era5-land   \n",
       "                               Met Solutions                         WRF NZ South Island Central Otago 3km   \n",
       "                               NZ Open Modelling Consortium    UC WRF NZ South Island North Canterbury 1km   \n",
       "                               NZ Open Modelling Consortium       UC WRF NZ South Island Central Otago 1km   \n",
       "                               NZ Open Modelling Consortium  UC WRF NZ South Island Marlborough Nelson 1km   \n",
       "...                                                                                                    ...   \n",
       "waterway   temperature         Environment Canterbury                              quality_controlled_data   \n",
       "                               Environment Canterbury                              quality_controlled_data   \n",
       "           water_use           Environment Southland                               WAP allocation method 1   \n",
       "                               Environment Southland                                   estimation method 1   \n",
       "                               Environment Southland                             stream depletion method 1   \n",
       "\n",
       "                                                            aggregation_statistic  \\\n",
       "feature    parameter           owner                                                \n",
       "atmosphere barometric_pressure ECMWF                                instantaneous   \n",
       "                               Met Solutions                        instantaneous   \n",
       "                               NZ Open Modelling Consortium         instantaneous   \n",
       "                               NZ Open Modelling Consortium         instantaneous   \n",
       "                               NZ Open Modelling Consortium         instantaneous   \n",
       "...                                                                           ...   \n",
       "waterway   temperature         Environment Canterbury                        mean   \n",
       "                               Environment Canterbury                    sporadic   \n",
       "           water_use           Environment Southland                   cumulative   \n",
       "                               Environment Southland                   cumulative   \n",
       "                               Environment Southland                         mean   \n",
       "\n",
       "                                                            frequency_interval  \\\n",
       "feature    parameter           owner                                             \n",
       "atmosphere barometric_pressure ECMWF                                         H   \n",
       "                               Met Solutions                                 H   \n",
       "                               NZ Open Modelling Consortium                  H   \n",
       "                               NZ Open Modelling Consortium                  H   \n",
       "                               NZ Open Modelling Consortium                  H   \n",
       "...                                                                        ...   \n",
       "waterway   temperature         Environment Canterbury                       1H   \n",
       "                               Environment Canterbury                        T   \n",
       "           water_use           Environment Southland                       24H   \n",
       "                               Environment Southland                       24H   \n",
       "                               Environment Southland                       24H   \n",
       "\n",
       "                                                            utc_offset  ...  \\\n",
       "feature    parameter           owner                                    ...   \n",
       "atmosphere barometric_pressure ECMWF                                0H  ...   \n",
       "                               Met Solutions                        0H  ...   \n",
       "                               NZ Open Modelling Consortium         0H  ...   \n",
       "                               NZ Open Modelling Consortium         0H  ...   \n",
       "                               NZ Open Modelling Consortium         0H  ...   \n",
       "...                                                                ...  ...   \n",
       "waterway   temperature         Environment Canterbury               0H  ...   \n",
       "                               Environment Canterbury               0H  ...   \n",
       "           water_use           Environment Southland               12H  ...   \n",
       "                               Environment Southland               12H  ...   \n",
       "                               Environment Southland               12H  ...   \n",
       "\n",
       "                                                                                           product_description  \\\n",
       "feature    parameter           owner                                                                             \n",
       "atmosphere barometric_pressure ECMWF                         ERA5-Land is a reanalysis dataset providing a ...   \n",
       "                               Met Solutions                 The Weather Research and Forecasting (WRF) mod...   \n",
       "                               NZ Open Modelling Consortium  The Weather Research and Forecasting (WRF) mod...   \n",
       "                               NZ Open Modelling Consortium  The Weather Research and Forecasting (WRF) mod...   \n",
       "                               NZ Open Modelling Consortium  The Weather Research and Forecasting (WRF) mod...   \n",
       "...                                                                                                        ...   \n",
       "waterway   temperature         Environment Canterbury                                                      NaN   \n",
       "                               Environment Canterbury                                                      NaN   \n",
       "           water_use           Environment Southland                                                       NaN   \n",
       "                               Environment Southland                                                       NaN   \n",
       "                               Environment Southland                                                       NaN   \n",
       "\n",
       "                                                            parent_datasets  \\\n",
       "feature    parameter           owner                                          \n",
       "atmosphere barometric_pressure ECMWF                                    NaN   \n",
       "                               Met Solutions                            NaN   \n",
       "                               NZ Open Modelling Consortium             NaN   \n",
       "                               NZ Open Modelling Consortium             NaN   \n",
       "                               NZ Open Modelling Consortium             NaN   \n",
       "...                                                                     ...   \n",
       "waterway   temperature         Environment Canterbury                   NaN   \n",
       "                               Environment Canterbury                   NaN   \n",
       "           water_use           Environment Southland                    NaN   \n",
       "                               Environment Southland                    NaN   \n",
       "                               Environment Southland                    NaN   \n",
       "\n",
       "                                                            result_type  \\\n",
       "feature    parameter           owner                                      \n",
       "atmosphere barometric_pressure ECMWF                                NaN   \n",
       "                               Met Solutions                        NaN   \n",
       "                               NZ Open Modelling Consortium         NaN   \n",
       "                               NZ Open Modelling Consortium         NaN   \n",
       "                               NZ Open Modelling Consortium         NaN   \n",
       "...                                                                 ...   \n",
       "waterway   temperature         Environment Canterbury               NaN   \n",
       "                               Environment Canterbury               NaN   \n",
       "           water_use           Environment Southland                NaN   \n",
       "                               Environment Southland                NaN   \n",
       "                               Environment Southland                NaN   \n",
       "\n",
       "                                                            system_version  \\\n",
       "feature    parameter           owner                                         \n",
       "atmosphere barometric_pressure ECMWF                                   NaN   \n",
       "                               Met Solutions                           NaN   \n",
       "                               NZ Open Modelling Consortium            NaN   \n",
       "                               NZ Open Modelling Consortium            NaN   \n",
       "                               NZ Open Modelling Consortium            NaN   \n",
       "...                                                                    ...   \n",
       "waterway   temperature         Environment Canterbury                  NaN   \n",
       "                               Environment Canterbury                  NaN   \n",
       "           water_use           Environment Southland                   NaN   \n",
       "                               Environment Southland                   NaN   \n",
       "                               Environment Southland                   NaN   \n",
       "\n",
       "                                                            chunk_parameters  \n",
       "feature    parameter           owner                                          \n",
       "atmosphere barometric_pressure ECMWF                                     NaN  \n",
       "                               Met Solutions                             NaN  \n",
       "                               NZ Open Modelling Consortium              NaN  \n",
       "                               NZ Open Modelling Consortium              NaN  \n",
       "                               NZ Open Modelling Consortium              NaN  \n",
       "...                                                                      ...  \n",
       "waterway   temperature         Environment Canterbury                    NaN  \n",
       "                               Environment Canterbury                    NaN  \n",
       "           water_use           Environment Southland                     NaN  \n",
       "                               Environment Southland                     NaN  \n",
       "                               Environment Southland                     NaN  \n",
       "\n",
       "[129 rows x 27 columns]"
      ]
     },
     "execution_count": 8,
     "metadata": {},
     "output_type": "execute_result"
    }
   ],
   "source": [
    "envlib.get_all_dataset_information(ts) #way nicer"
   ]
  },
  {
   "cell_type": "markdown",
   "id": "af27cefd-18bd-402d-bb77-908d0ae3643f",
   "metadata": {},
   "source": [
    "### Get a FENZ weather station data"
   ]
  },
  {
   "cell_type": "markdown",
   "id": "e7bd78c1-68a9-493f-b2f0-f6d69295d4fe",
   "metadata": {},
   "source": [
    "You need to know which dataset you are requring by given some information. These information can be found either from the excel file generated obove or from the discovery tool on (https://www.envlib.org)."
   ]
  },
  {
   "cell_type": "code",
   "execution_count": 9,
   "id": "1e1c26d2-6824-4eb8-8ae7-a28b2acc43b7",
   "metadata": {},
   "outputs": [],
   "source": [
    "owner = \"FENZ\"\n",
    "method = \"sensor_recording\"\n",
    "product_code = \"raw_data\""
   ]
  },
  {
   "cell_type": "markdown",
   "id": "2f81e5a4-741b-4a96-80b7-e366d6783c6c",
   "metadata": {},
   "source": [
    "Here we use lat and lon to specify the station location."
   ]
  },
  {
   "cell_type": "code",
   "execution_count": 10,
   "id": "ec58e865-4fbe-4cd1-9c63-15b802a505c0",
   "metadata": {},
   "outputs": [],
   "source": [
    "# lat = -43.47\n",
    "# lon = 171.672\n",
    "lat = -43.91498\n",
    "lon =  170.12862"
   ]
  },
  {
   "cell_type": "code",
   "execution_count": 11,
   "id": "adf9061d-4dcb-4d06-8e7d-02f6599a5e4f",
   "metadata": {},
   "outputs": [],
   "source": [
    "station_data = envlib.get_data_from_lat_lon(ts, owner, method, product_code, lat, lon,squeeze_dims=True)"
   ]
  },
  {
   "cell_type": "markdown",
   "id": "0f640c51-b386-4a12-806e-e6029dfe5329",
   "metadata": {},
   "source": [
    "The output is an xarray dataset which contains all the variables available from that station."
   ]
  },
  {
   "cell_type": "code",
   "execution_count": 12,
   "id": "53deefea-97f6-430c-a05e-8f50d4d6f784",
   "metadata": {},
   "outputs": [
    {
     "data": {
      "text/html": [
       "<div><svg style=\"position: absolute; width: 0; height: 0; overflow: hidden\">\n",
       "<defs>\n",
       "<symbol id=\"icon-database\" viewBox=\"0 0 32 32\">\n",
       "<path d=\"M16 0c-8.837 0-16 2.239-16 5v4c0 2.761 7.163 5 16 5s16-2.239 16-5v-4c0-2.761-7.163-5-16-5z\"></path>\n",
       "<path d=\"M16 17c-8.837 0-16-2.239-16-5v6c0 2.761 7.163 5 16 5s16-2.239 16-5v-6c0 2.761-7.163 5-16 5z\"></path>\n",
       "<path d=\"M16 26c-8.837 0-16-2.239-16-5v6c0 2.761 7.163 5 16 5s16-2.239 16-5v-6c0 2.761-7.163 5-16 5z\"></path>\n",
       "</symbol>\n",
       "<symbol id=\"icon-file-text2\" viewBox=\"0 0 32 32\">\n",
       "<path d=\"M28.681 7.159c-0.694-0.947-1.662-2.053-2.724-3.116s-2.169-2.030-3.116-2.724c-1.612-1.182-2.393-1.319-2.841-1.319h-15.5c-1.378 0-2.5 1.121-2.5 2.5v27c0 1.378 1.122 2.5 2.5 2.5h23c1.378 0 2.5-1.122 2.5-2.5v-19.5c0-0.448-0.137-1.23-1.319-2.841zM24.543 5.457c0.959 0.959 1.712 1.825 2.268 2.543h-4.811v-4.811c0.718 0.556 1.584 1.309 2.543 2.268zM28 29.5c0 0.271-0.229 0.5-0.5 0.5h-23c-0.271 0-0.5-0.229-0.5-0.5v-27c0-0.271 0.229-0.5 0.5-0.5 0 0 15.499-0 15.5 0v7c0 0.552 0.448 1 1 1h7v19.5z\"></path>\n",
       "<path d=\"M23 26h-14c-0.552 0-1-0.448-1-1s0.448-1 1-1h14c0.552 0 1 0.448 1 1s-0.448 1-1 1z\"></path>\n",
       "<path d=\"M23 22h-14c-0.552 0-1-0.448-1-1s0.448-1 1-1h14c0.552 0 1 0.448 1 1s-0.448 1-1 1z\"></path>\n",
       "<path d=\"M23 18h-14c-0.552 0-1-0.448-1-1s0.448-1 1-1h14c0.552 0 1 0.448 1 1s-0.448 1-1 1z\"></path>\n",
       "</symbol>\n",
       "</defs>\n",
       "</svg>\n",
       "<style>/* CSS stylesheet for displaying xarray objects in jupyterlab.\n",
       " *\n",
       " */\n",
       "\n",
       ":root {\n",
       "  --xr-font-color0: var(--jp-content-font-color0, rgba(0, 0, 0, 1));\n",
       "  --xr-font-color2: var(--jp-content-font-color2, rgba(0, 0, 0, 0.54));\n",
       "  --xr-font-color3: var(--jp-content-font-color3, rgba(0, 0, 0, 0.38));\n",
       "  --xr-border-color: var(--jp-border-color2, #e0e0e0);\n",
       "  --xr-disabled-color: var(--jp-layout-color3, #bdbdbd);\n",
       "  --xr-background-color: var(--jp-layout-color0, white);\n",
       "  --xr-background-color-row-even: var(--jp-layout-color1, white);\n",
       "  --xr-background-color-row-odd: var(--jp-layout-color2, #eeeeee);\n",
       "}\n",
       "\n",
       "html[theme=dark],\n",
       "body.vscode-dark {\n",
       "  --xr-font-color0: rgba(255, 255, 255, 1);\n",
       "  --xr-font-color2: rgba(255, 255, 255, 0.54);\n",
       "  --xr-font-color3: rgba(255, 255, 255, 0.38);\n",
       "  --xr-border-color: #1F1F1F;\n",
       "  --xr-disabled-color: #515151;\n",
       "  --xr-background-color: #111111;\n",
       "  --xr-background-color-row-even: #111111;\n",
       "  --xr-background-color-row-odd: #313131;\n",
       "}\n",
       "\n",
       ".xr-wrap {\n",
       "  display: block !important;\n",
       "  min-width: 300px;\n",
       "  max-width: 700px;\n",
       "}\n",
       "\n",
       ".xr-text-repr-fallback {\n",
       "  /* fallback to plain text repr when CSS is not injected (untrusted notebook) */\n",
       "  display: none;\n",
       "}\n",
       "\n",
       ".xr-header {\n",
       "  padding-top: 6px;\n",
       "  padding-bottom: 6px;\n",
       "  margin-bottom: 4px;\n",
       "  border-bottom: solid 1px var(--xr-border-color);\n",
       "}\n",
       "\n",
       ".xr-header > div,\n",
       ".xr-header > ul {\n",
       "  display: inline;\n",
       "  margin-top: 0;\n",
       "  margin-bottom: 0;\n",
       "}\n",
       "\n",
       ".xr-obj-type,\n",
       ".xr-array-name {\n",
       "  margin-left: 2px;\n",
       "  margin-right: 10px;\n",
       "}\n",
       "\n",
       ".xr-obj-type {\n",
       "  color: var(--xr-font-color2);\n",
       "}\n",
       "\n",
       ".xr-sections {\n",
       "  padding-left: 0 !important;\n",
       "  display: grid;\n",
       "  grid-template-columns: 150px auto auto 1fr 20px 20px;\n",
       "}\n",
       "\n",
       ".xr-section-item {\n",
       "  display: contents;\n",
       "}\n",
       "\n",
       ".xr-section-item input {\n",
       "  display: none;\n",
       "}\n",
       "\n",
       ".xr-section-item input + label {\n",
       "  color: var(--xr-disabled-color);\n",
       "}\n",
       "\n",
       ".xr-section-item input:enabled + label {\n",
       "  cursor: pointer;\n",
       "  color: var(--xr-font-color2);\n",
       "}\n",
       "\n",
       ".xr-section-item input:enabled + label:hover {\n",
       "  color: var(--xr-font-color0);\n",
       "}\n",
       "\n",
       ".xr-section-summary {\n",
       "  grid-column: 1;\n",
       "  color: var(--xr-font-color2);\n",
       "  font-weight: 500;\n",
       "}\n",
       "\n",
       ".xr-section-summary > span {\n",
       "  display: inline-block;\n",
       "  padding-left: 0.5em;\n",
       "}\n",
       "\n",
       ".xr-section-summary-in:disabled + label {\n",
       "  color: var(--xr-font-color2);\n",
       "}\n",
       "\n",
       ".xr-section-summary-in + label:before {\n",
       "  display: inline-block;\n",
       "  content: '►';\n",
       "  font-size: 11px;\n",
       "  width: 15px;\n",
       "  text-align: center;\n",
       "}\n",
       "\n",
       ".xr-section-summary-in:disabled + label:before {\n",
       "  color: var(--xr-disabled-color);\n",
       "}\n",
       "\n",
       ".xr-section-summary-in:checked + label:before {\n",
       "  content: '▼';\n",
       "}\n",
       "\n",
       ".xr-section-summary-in:checked + label > span {\n",
       "  display: none;\n",
       "}\n",
       "\n",
       ".xr-section-summary,\n",
       ".xr-section-inline-details {\n",
       "  padding-top: 4px;\n",
       "  padding-bottom: 4px;\n",
       "}\n",
       "\n",
       ".xr-section-inline-details {\n",
       "  grid-column: 2 / -1;\n",
       "}\n",
       "\n",
       ".xr-section-details {\n",
       "  display: none;\n",
       "  grid-column: 1 / -1;\n",
       "  margin-bottom: 5px;\n",
       "}\n",
       "\n",
       ".xr-section-summary-in:checked ~ .xr-section-details {\n",
       "  display: contents;\n",
       "}\n",
       "\n",
       ".xr-array-wrap {\n",
       "  grid-column: 1 / -1;\n",
       "  display: grid;\n",
       "  grid-template-columns: 20px auto;\n",
       "}\n",
       "\n",
       ".xr-array-wrap > label {\n",
       "  grid-column: 1;\n",
       "  vertical-align: top;\n",
       "}\n",
       "\n",
       ".xr-preview {\n",
       "  color: var(--xr-font-color3);\n",
       "}\n",
       "\n",
       ".xr-array-preview,\n",
       ".xr-array-data {\n",
       "  padding: 0 5px !important;\n",
       "  grid-column: 2;\n",
       "}\n",
       "\n",
       ".xr-array-data,\n",
       ".xr-array-in:checked ~ .xr-array-preview {\n",
       "  display: none;\n",
       "}\n",
       "\n",
       ".xr-array-in:checked ~ .xr-array-data,\n",
       ".xr-array-preview {\n",
       "  display: inline-block;\n",
       "}\n",
       "\n",
       ".xr-dim-list {\n",
       "  display: inline-block !important;\n",
       "  list-style: none;\n",
       "  padding: 0 !important;\n",
       "  margin: 0;\n",
       "}\n",
       "\n",
       ".xr-dim-list li {\n",
       "  display: inline-block;\n",
       "  padding: 0;\n",
       "  margin: 0;\n",
       "}\n",
       "\n",
       ".xr-dim-list:before {\n",
       "  content: '(';\n",
       "}\n",
       "\n",
       ".xr-dim-list:after {\n",
       "  content: ')';\n",
       "}\n",
       "\n",
       ".xr-dim-list li:not(:last-child):after {\n",
       "  content: ',';\n",
       "  padding-right: 5px;\n",
       "}\n",
       "\n",
       ".xr-has-index {\n",
       "  font-weight: bold;\n",
       "}\n",
       "\n",
       ".xr-var-list,\n",
       ".xr-var-item {\n",
       "  display: contents;\n",
       "}\n",
       "\n",
       ".xr-var-item > div,\n",
       ".xr-var-item label,\n",
       ".xr-var-item > .xr-var-name span {\n",
       "  background-color: var(--xr-background-color-row-even);\n",
       "  margin-bottom: 0;\n",
       "}\n",
       "\n",
       ".xr-var-item > .xr-var-name:hover span {\n",
       "  padding-right: 5px;\n",
       "}\n",
       "\n",
       ".xr-var-list > li:nth-child(odd) > div,\n",
       ".xr-var-list > li:nth-child(odd) > label,\n",
       ".xr-var-list > li:nth-child(odd) > .xr-var-name span {\n",
       "  background-color: var(--xr-background-color-row-odd);\n",
       "}\n",
       "\n",
       ".xr-var-name {\n",
       "  grid-column: 1;\n",
       "}\n",
       "\n",
       ".xr-var-dims {\n",
       "  grid-column: 2;\n",
       "}\n",
       "\n",
       ".xr-var-dtype {\n",
       "  grid-column: 3;\n",
       "  text-align: right;\n",
       "  color: var(--xr-font-color2);\n",
       "}\n",
       "\n",
       ".xr-var-preview {\n",
       "  grid-column: 4;\n",
       "}\n",
       "\n",
       ".xr-var-name,\n",
       ".xr-var-dims,\n",
       ".xr-var-dtype,\n",
       ".xr-preview,\n",
       ".xr-attrs dt {\n",
       "  white-space: nowrap;\n",
       "  overflow: hidden;\n",
       "  text-overflow: ellipsis;\n",
       "  padding-right: 10px;\n",
       "}\n",
       "\n",
       ".xr-var-name:hover,\n",
       ".xr-var-dims:hover,\n",
       ".xr-var-dtype:hover,\n",
       ".xr-attrs dt:hover {\n",
       "  overflow: visible;\n",
       "  width: auto;\n",
       "  z-index: 1;\n",
       "}\n",
       "\n",
       ".xr-var-attrs,\n",
       ".xr-var-data {\n",
       "  display: none;\n",
       "  background-color: var(--xr-background-color) !important;\n",
       "  padding-bottom: 5px !important;\n",
       "}\n",
       "\n",
       ".xr-var-attrs-in:checked ~ .xr-var-attrs,\n",
       ".xr-var-data-in:checked ~ .xr-var-data {\n",
       "  display: block;\n",
       "}\n",
       "\n",
       ".xr-var-data > table {\n",
       "  float: right;\n",
       "}\n",
       "\n",
       ".xr-var-name span,\n",
       ".xr-var-data,\n",
       ".xr-attrs {\n",
       "  padding-left: 25px !important;\n",
       "}\n",
       "\n",
       ".xr-attrs,\n",
       ".xr-var-attrs,\n",
       ".xr-var-data {\n",
       "  grid-column: 1 / -1;\n",
       "}\n",
       "\n",
       "dl.xr-attrs {\n",
       "  padding: 0;\n",
       "  margin: 0;\n",
       "  display: grid;\n",
       "  grid-template-columns: 125px auto;\n",
       "}\n",
       "\n",
       ".xr-attrs dt,\n",
       ".xr-attrs dd {\n",
       "  padding: 0;\n",
       "  margin: 0;\n",
       "  float: left;\n",
       "  padding-right: 10px;\n",
       "  width: auto;\n",
       "}\n",
       "\n",
       ".xr-attrs dt {\n",
       "  font-weight: normal;\n",
       "  grid-column: 1;\n",
       "}\n",
       "\n",
       ".xr-attrs dt:hover span {\n",
       "  display: inline-block;\n",
       "  background: var(--xr-background-color);\n",
       "  padding-right: 10px;\n",
       "}\n",
       "\n",
       ".xr-attrs dd {\n",
       "  grid-column: 2;\n",
       "  white-space: pre-wrap;\n",
       "  word-break: break-all;\n",
       "}\n",
       "\n",
       ".xr-icon-database,\n",
       ".xr-icon-file-text2 {\n",
       "  display: inline-block;\n",
       "  vertical-align: middle;\n",
       "  width: 1em;\n",
       "  height: 1.5em !important;\n",
       "  stroke-width: 0;\n",
       "  stroke: currentColor;\n",
       "  fill: currentColor;\n",
       "}\n",
       "</style><pre class='xr-text-repr-fallback'>&lt;xarray.Dataset&gt;\n",
       "Dimensions:                   (time: 44195)\n",
       "Coordinates:\n",
       "  * time                      (time) datetime64[ns] 2017-03-15 ... 2022-03-31...\n",
       "    geometry                  &lt;U42 &#x27;010100000092B3B0A71D4465403E3F8C101EF545C0&#x27;\n",
       "    height                    int8 2\n",
       "Data variables:\n",
       "    station_id                object &#x27;b1ccc6ead3273d01c94501bd&#x27;\n",
       "    externalId                object &#x27;CLIDB_43213&#x27;\n",
       "    name                      object &#x27;Glentanner&#x27;\n",
       "    ref                       object &#x27;glentanner&#x27;\n",
       "    wind_direction            (time) float32 113.1 116.8 97.2 ... 126.4 115.4\n",
       "    lat                       float64 -43.91\n",
       "    lon                       float64 170.1\n",
       "    temperature               (time) float32 14.8 16.0 16.8 ... 17.5 18.4 18.9\n",
       "    precipitation             (time) float32 0.0 0.0 0.0 0.0 ... nan nan nan nan\n",
       "    wind_speed                (time) float32 2.34 1.82 1.81 ... 2.42 2.88 1.82\n",
       "    relative_humidity         (time) float32 70.2 66.8 65.4 ... 71.6 67.8 68.2\n",
       "    volumetric_water_content  (time) float32 nan nan nan nan ... 10.0 10.0 10.0\n",
       "Attributes:\n",
       "    result_type:     time_series\n",
       "    title:           mean wind_direction in deg of the atmosphere by a sensor...\n",
       "    institution:     FENZ\n",
       "    license:         https://creativecommons.org/licenses/by/4.0/\n",
       "    source:          sensor_recording\n",
       "    system_version:  4\n",
       "    version_date:    2022-03-23T00:00:00</pre><div class='xr-wrap' style='display:none'><div class='xr-header'><div class='xr-obj-type'>xarray.Dataset</div></div><ul class='xr-sections'><li class='xr-section-item'><input id='section-81d6d9f6-2fc8-4481-ad48-1b0fd3fd35d0' class='xr-section-summary-in' type='checkbox' disabled ><label for='section-81d6d9f6-2fc8-4481-ad48-1b0fd3fd35d0' class='xr-section-summary'  title='Expand/collapse section'>Dimensions:</label><div class='xr-section-inline-details'><ul class='xr-dim-list'><li><span class='xr-has-index'>time</span>: 44195</li></ul></div><div class='xr-section-details'></div></li><li class='xr-section-item'><input id='section-248f9ad9-bf1e-45ff-be84-bf92ed02b110' class='xr-section-summary-in' type='checkbox'  checked><label for='section-248f9ad9-bf1e-45ff-be84-bf92ed02b110' class='xr-section-summary' >Coordinates: <span>(3)</span></label><div class='xr-section-inline-details'></div><div class='xr-section-details'><ul class='xr-var-list'><li class='xr-var-item'><div class='xr-var-name'><span class='xr-has-index'>time</span></div><div class='xr-var-dims'>(time)</div><div class='xr-var-dtype'>datetime64[ns]</div><div class='xr-var-preview xr-preview'>2017-03-15 ... 2022-03-31T02:00:00</div><input id='attrs-d28f5f4d-5b6a-416e-972d-65dc966ecc52' class='xr-var-attrs-in' type='checkbox' ><label for='attrs-d28f5f4d-5b6a-416e-972d-65dc966ecc52' title='Show/Hide attributes'><svg class='icon xr-icon-file-text2'><use xlink:href='#icon-file-text2'></use></svg></label><input id='data-6617466c-92a6-4ba1-8c63-319b40ffedd7' class='xr-var-data-in' type='checkbox'><label for='data-6617466c-92a6-4ba1-8c63-319b40ffedd7' title='Show/Hide data repr'><svg class='icon xr-icon-database'><use xlink:href='#icon-database'></use></svg></label><div class='xr-var-attrs'><dl class='xr-attrs'><dt><span>standard_name :</span></dt><dd>time</dd><dt><span>long_name :</span></dt><dd>start_time</dd></dl></div><div class='xr-var-data'><pre>array([&#x27;2017-03-15T00:00:00.000000000&#x27;, &#x27;2017-03-15T01:00:00.000000000&#x27;,\n",
       "       &#x27;2017-03-15T02:00:00.000000000&#x27;, ..., &#x27;2022-03-31T00:00:00.000000000&#x27;,\n",
       "       &#x27;2022-03-31T01:00:00.000000000&#x27;, &#x27;2022-03-31T02:00:00.000000000&#x27;],\n",
       "      dtype=&#x27;datetime64[ns]&#x27;)</pre></div></li><li class='xr-var-item'><div class='xr-var-name'><span>geometry</span></div><div class='xr-var-dims'>()</div><div class='xr-var-dtype'>&lt;U42</div><div class='xr-var-preview xr-preview'>&#x27;010100000092B3B0A71D4465403E3F8...</div><input id='attrs-fa6f5758-1303-4af3-a755-ce5ca5e53063' class='xr-var-attrs-in' type='checkbox' ><label for='attrs-fa6f5758-1303-4af3-a755-ce5ca5e53063' title='Show/Hide attributes'><svg class='icon xr-icon-file-text2'><use xlink:href='#icon-file-text2'></use></svg></label><input id='data-bb84700d-aeaa-4afd-910e-758a81e743a0' class='xr-var-data-in' type='checkbox'><label for='data-bb84700d-aeaa-4afd-910e-758a81e743a0' title='Show/Hide data repr'><svg class='icon xr-icon-database'><use xlink:href='#icon-database'></use></svg></label><div class='xr-var-attrs'><dl class='xr-attrs'><dt><span>long_name :</span></dt><dd>The hexadecimal encoding of the Well-Known Binary (WKB) geometry</dd><dt><span>crs_EPSG :</span></dt><dd>4326</dd></dl></div><div class='xr-var-data'><pre>array(&#x27;010100000092B3B0A71D4465403E3F8C101EF545C0&#x27;, dtype=&#x27;&lt;U42&#x27;)</pre></div></li><li class='xr-var-item'><div class='xr-var-name'><span>height</span></div><div class='xr-var-dims'>()</div><div class='xr-var-dtype'>int8</div><div class='xr-var-preview xr-preview'>2</div><input id='attrs-79d890d2-225c-461f-ae66-f6147735efeb' class='xr-var-attrs-in' type='checkbox' ><label for='attrs-79d890d2-225c-461f-ae66-f6147735efeb' title='Show/Hide attributes'><svg class='icon xr-icon-file-text2'><use xlink:href='#icon-file-text2'></use></svg></label><input id='data-69f76cf6-8b20-4683-ae61-064572a19be0' class='xr-var-data-in' type='checkbox'><label for='data-69f76cf6-8b20-4683-ae61-064572a19be0' title='Show/Hide data repr'><svg class='icon xr-icon-database'><use xlink:href='#icon-database'></use></svg></label><div class='xr-var-attrs'><dl class='xr-attrs'><dt><span>standard_name :</span></dt><dd>height</dd><dt><span>long_name :</span></dt><dd>vertical distance above the surface</dd><dt><span>units :</span></dt><dd>m</dd><dt><span>positive :</span></dt><dd>up</dd></dl></div><div class='xr-var-data'><pre>array(2, dtype=int8)</pre></div></li></ul></div></li><li class='xr-section-item'><input id='section-64c794f7-f282-47ee-9c62-a5655d6f1133' class='xr-section-summary-in' type='checkbox'  checked><label for='section-64c794f7-f282-47ee-9c62-a5655d6f1133' class='xr-section-summary' >Data variables: <span>(12)</span></label><div class='xr-section-inline-details'></div><div class='xr-section-details'><ul class='xr-var-list'><li class='xr-var-item'><div class='xr-var-name'><span>station_id</span></div><div class='xr-var-dims'>()</div><div class='xr-var-dtype'>object</div><div class='xr-var-preview xr-preview'>&#x27;b1ccc6ead3273d01c94501bd&#x27;</div><input id='attrs-abafe20b-1b25-46fa-aa9e-8d2f25b44c9c' class='xr-var-attrs-in' type='checkbox' ><label for='attrs-abafe20b-1b25-46fa-aa9e-8d2f25b44c9c' title='Show/Hide attributes'><svg class='icon xr-icon-file-text2'><use xlink:href='#icon-file-text2'></use></svg></label><input id='data-f00019cb-f677-4b25-8ff2-068f9b52a246' class='xr-var-data-in' type='checkbox'><label for='data-f00019cb-f677-4b25-8ff2-068f9b52a246' title='Show/Hide data repr'><svg class='icon xr-icon-database'><use xlink:href='#icon-database'></use></svg></label><div class='xr-var-attrs'><dl class='xr-attrs'><dt><span>cf_role :</span></dt><dd>timeseries_id</dd><dt><span>description :</span></dt><dd>The unique ID associated with the geometry for a single result.</dd></dl></div><div class='xr-var-data'><pre>array(&#x27;b1ccc6ead3273d01c94501bd&#x27;, dtype=object)</pre></div></li><li class='xr-var-item'><div class='xr-var-name'><span>externalId</span></div><div class='xr-var-dims'>()</div><div class='xr-var-dtype'>object</div><div class='xr-var-preview xr-preview'>&#x27;CLIDB_43213&#x27;</div><input id='attrs-619fd25c-7de0-48f3-a7c8-b46a24f584fc' class='xr-var-attrs-in' type='checkbox' ><label for='attrs-619fd25c-7de0-48f3-a7c8-b46a24f584fc' title='Show/Hide attributes'><svg class='icon xr-icon-file-text2'><use xlink:href='#icon-file-text2'></use></svg></label><input id='data-f20de27d-963d-486f-8162-9c12f16e5bed' class='xr-var-data-in' type='checkbox'><label for='data-f20de27d-963d-486f-8162-9c12f16e5bed' title='Show/Hide data repr'><svg class='icon xr-icon-database'><use xlink:href='#icon-database'></use></svg></label><div class='xr-var-attrs'><dl class='xr-attrs'><dt><span>long name :</span></dt><dd>The unique id assigned by NIWA for internal interoperation</dd></dl></div><div class='xr-var-data'><pre>array(&#x27;CLIDB_43213&#x27;, dtype=object)</pre></div></li><li class='xr-var-item'><div class='xr-var-name'><span>name</span></div><div class='xr-var-dims'>()</div><div class='xr-var-dtype'>object</div><div class='xr-var-preview xr-preview'>&#x27;Glentanner&#x27;</div><input id='attrs-704ae7a5-e2fb-42ea-95ac-a09ef057a7ba' class='xr-var-attrs-in' type='checkbox' ><label for='attrs-704ae7a5-e2fb-42ea-95ac-a09ef057a7ba' title='Show/Hide attributes'><svg class='icon xr-icon-file-text2'><use xlink:href='#icon-file-text2'></use></svg></label><input id='data-a9563914-faf8-4c6b-bb1f-2f57be9fc309' class='xr-var-data-in' type='checkbox'><label for='data-a9563914-faf8-4c6b-bb1f-2f57be9fc309' title='Show/Hide data repr'><svg class='icon xr-icon-database'><use xlink:href='#icon-database'></use></svg></label><div class='xr-var-attrs'><dl class='xr-attrs'><dt><span>long_name :</span></dt><dd>station name</dd></dl></div><div class='xr-var-data'><pre>array(&#x27;Glentanner&#x27;, dtype=object)</pre></div></li><li class='xr-var-item'><div class='xr-var-name'><span>ref</span></div><div class='xr-var-dims'>()</div><div class='xr-var-dtype'>object</div><div class='xr-var-preview xr-preview'>&#x27;glentanner&#x27;</div><input id='attrs-6aa213d4-c649-45b3-bb06-959a88fc9338' class='xr-var-attrs-in' type='checkbox' ><label for='attrs-6aa213d4-c649-45b3-bb06-959a88fc9338' title='Show/Hide attributes'><svg class='icon xr-icon-file-text2'><use xlink:href='#icon-file-text2'></use></svg></label><input id='data-11550b75-6480-4bc8-84c6-85836dab10c7' class='xr-var-data-in' type='checkbox'><label for='data-11550b75-6480-4bc8-84c6-85836dab10c7' title='Show/Hide data repr'><svg class='icon xr-icon-database'><use xlink:href='#icon-database'></use></svg></label><div class='xr-var-attrs'><dl class='xr-attrs'><dt><span>long_name :</span></dt><dd>station reference id given by the owner</dd></dl></div><div class='xr-var-data'><pre>array(&#x27;glentanner&#x27;, dtype=object)</pre></div></li><li class='xr-var-item'><div class='xr-var-name'><span>wind_direction</span></div><div class='xr-var-dims'>(time)</div><div class='xr-var-dtype'>float32</div><div class='xr-var-preview xr-preview'>113.1 116.8 97.2 ... 126.4 115.4</div><input id='attrs-28be47b7-d990-4129-9ea2-acdb960481de' class='xr-var-attrs-in' type='checkbox' ><label for='attrs-28be47b7-d990-4129-9ea2-acdb960481de' title='Show/Hide attributes'><svg class='icon xr-icon-file-text2'><use xlink:href='#icon-file-text2'></use></svg></label><input id='data-d3c1815d-5710-4ee4-af15-0bc81fa22d7a' class='xr-var-data-in' type='checkbox'><label for='data-d3c1815d-5710-4ee4-af15-0bc81fa22d7a' title='Show/Hide data repr'><svg class='icon xr-icon-database'><use xlink:href='#icon-database'></use></svg></label><div class='xr-var-attrs'><dl class='xr-attrs'><dt><span>feature :</span></dt><dd>atmosphere</dd><dt><span>parameter :</span></dt><dd>wind_direction</dd><dt><span>method :</span></dt><dd>sensor_recording</dd><dt><span>product_code :</span></dt><dd>raw_data</dd><dt><span>owner :</span></dt><dd>FENZ</dd><dt><span>aggregation_statistic :</span></dt><dd>mean</dd><dt><span>frequency_interval :</span></dt><dd>1H</dd><dt><span>utc_offset :</span></dt><dd>0H</dd><dt><span>dataset_id :</span></dt><dd>a7561f55ad53ea0647f8ce56</dd><dt><span>units :</span></dt><dd>deg</dd><dt><span>license :</span></dt><dd>https://creativecommons.org/licenses/by/4.0/</dd><dt><span>attribution :</span></dt><dd>Data licenced by FENZ</dd><dt><span>result_type :</span></dt><dd>time_series</dd><dt><span>precision :</span></dt><dd>0.1</dd><dt><span>block_length :</span></dt><dd>0.0</dd><dt><span>time_interval :</span></dt><dd>7300</dd><dt><span>standard_name :</span></dt><dd>wind_from_direction</dd></dl></div><div class='xr-var-data'><pre>array([113.1     , 116.8     ,  97.200005, ..., 117.5     , 126.4     ,\n",
       "       115.4     ], dtype=float32)</pre></div></li><li class='xr-var-item'><div class='xr-var-name'><span>lat</span></div><div class='xr-var-dims'>()</div><div class='xr-var-dtype'>float64</div><div class='xr-var-preview xr-preview'>-43.91</div><input id='attrs-d9caeb86-e72d-4259-a427-916b5af53ac4' class='xr-var-attrs-in' type='checkbox' ><label for='attrs-d9caeb86-e72d-4259-a427-916b5af53ac4' title='Show/Hide attributes'><svg class='icon xr-icon-file-text2'><use xlink:href='#icon-file-text2'></use></svg></label><input id='data-bfd1406a-dac1-4694-b093-ff7cb974c398' class='xr-var-data-in' type='checkbox'><label for='data-bfd1406a-dac1-4694-b093-ff7cb974c398' title='Show/Hide data repr'><svg class='icon xr-icon-database'><use xlink:href='#icon-database'></use></svg></label><div class='xr-var-attrs'><dl class='xr-attrs'><dt><span>standard_name :</span></dt><dd>latitude</dd><dt><span>units :</span></dt><dd>degrees_north</dd></dl></div><div class='xr-var-data'><pre>array(-43.91498)</pre></div></li><li class='xr-var-item'><div class='xr-var-name'><span>lon</span></div><div class='xr-var-dims'>()</div><div class='xr-var-dtype'>float64</div><div class='xr-var-preview xr-preview'>170.1</div><input id='attrs-f9d91a7e-f17e-4f42-abcc-a9d1906106bc' class='xr-var-attrs-in' type='checkbox' ><label for='attrs-f9d91a7e-f17e-4f42-abcc-a9d1906106bc' title='Show/Hide attributes'><svg class='icon xr-icon-file-text2'><use xlink:href='#icon-file-text2'></use></svg></label><input id='data-91869acd-b2e5-41ec-8dcf-ca6f0c33f6b6' class='xr-var-data-in' type='checkbox'><label for='data-91869acd-b2e5-41ec-8dcf-ca6f0c33f6b6' title='Show/Hide data repr'><svg class='icon xr-icon-database'><use xlink:href='#icon-database'></use></svg></label><div class='xr-var-attrs'><dl class='xr-attrs'><dt><span>standard_name :</span></dt><dd>longitude</dd><dt><span>units :</span></dt><dd>degrees_east</dd></dl></div><div class='xr-var-data'><pre>array(170.12862)</pre></div></li><li class='xr-var-item'><div class='xr-var-name'><span>temperature</span></div><div class='xr-var-dims'>(time)</div><div class='xr-var-dtype'>float32</div><div class='xr-var-preview xr-preview'>14.8 16.0 16.8 ... 17.5 18.4 18.9</div><input id='attrs-5b47f0d2-ee08-42e1-9407-691a0bbe7d79' class='xr-var-attrs-in' type='checkbox' ><label for='attrs-5b47f0d2-ee08-42e1-9407-691a0bbe7d79' title='Show/Hide attributes'><svg class='icon xr-icon-file-text2'><use xlink:href='#icon-file-text2'></use></svg></label><input id='data-57e0b388-d4ab-46dd-83ba-58599334f7c3' class='xr-var-data-in' type='checkbox'><label for='data-57e0b388-d4ab-46dd-83ba-58599334f7c3' title='Show/Hide data repr'><svg class='icon xr-icon-database'><use xlink:href='#icon-database'></use></svg></label><div class='xr-var-attrs'><dl class='xr-attrs'><dt><span>feature :</span></dt><dd>atmosphere</dd><dt><span>parameter :</span></dt><dd>temperature</dd><dt><span>method :</span></dt><dd>sensor_recording</dd><dt><span>product_code :</span></dt><dd>raw_data</dd><dt><span>owner :</span></dt><dd>FENZ</dd><dt><span>aggregation_statistic :</span></dt><dd>mean</dd><dt><span>frequency_interval :</span></dt><dd>1H</dd><dt><span>utc_offset :</span></dt><dd>0H</dd><dt><span>dataset_id :</span></dt><dd>dddb02cd5cb7ae191311ab19</dd><dt><span>units :</span></dt><dd>degC</dd><dt><span>license :</span></dt><dd>https://creativecommons.org/licenses/by/4.0/</dd><dt><span>attribution :</span></dt><dd>Data licenced by FENZ</dd><dt><span>result_type :</span></dt><dd>time_series</dd><dt><span>precision :</span></dt><dd>0.1</dd><dt><span>block_length :</span></dt><dd>0.0</dd><dt><span>time_interval :</span></dt><dd>7300</dd><dt><span>standard_name :</span></dt><dd>air_temperature</dd></dl></div><div class='xr-var-data'><pre>array([14.8     , 16.      , 16.800001, ..., 17.5     , 18.4     ,\n",
       "       18.9     ], dtype=float32)</pre></div></li><li class='xr-var-item'><div class='xr-var-name'><span>precipitation</span></div><div class='xr-var-dims'>(time)</div><div class='xr-var-dtype'>float32</div><div class='xr-var-preview xr-preview'>0.0 0.0 0.0 0.0 ... nan nan nan nan</div><input id='attrs-ec893be1-5bee-4555-8fd8-4fc307925167' class='xr-var-attrs-in' type='checkbox' ><label for='attrs-ec893be1-5bee-4555-8fd8-4fc307925167' title='Show/Hide attributes'><svg class='icon xr-icon-file-text2'><use xlink:href='#icon-file-text2'></use></svg></label><input id='data-1dcabc7a-8d63-48d5-8444-a043023b7c68' class='xr-var-data-in' type='checkbox'><label for='data-1dcabc7a-8d63-48d5-8444-a043023b7c68' title='Show/Hide data repr'><svg class='icon xr-icon-database'><use xlink:href='#icon-database'></use></svg></label><div class='xr-var-attrs'><dl class='xr-attrs'><dt><span>feature :</span></dt><dd>atmosphere</dd><dt><span>parameter :</span></dt><dd>precipitation</dd><dt><span>method :</span></dt><dd>sensor_recording</dd><dt><span>product_code :</span></dt><dd>raw_data</dd><dt><span>owner :</span></dt><dd>FENZ</dd><dt><span>aggregation_statistic :</span></dt><dd>cumulative</dd><dt><span>frequency_interval :</span></dt><dd>1H</dd><dt><span>utc_offset :</span></dt><dd>0H</dd><dt><span>dataset_id :</span></dt><dd>c5f55d97e71e7cd73295ad7f</dd><dt><span>units :</span></dt><dd>mm</dd><dt><span>license :</span></dt><dd>https://creativecommons.org/licenses/by/4.0/</dd><dt><span>attribution :</span></dt><dd>Data licenced by FENZ</dd><dt><span>result_type :</span></dt><dd>time_series</dd><dt><span>precision :</span></dt><dd>0.1</dd><dt><span>block_length :</span></dt><dd>0.0</dd><dt><span>time_interval :</span></dt><dd>7300</dd><dt><span>standard_name :</span></dt><dd>precipitation_amount</dd></dl></div><div class='xr-var-data'><pre>array([ 0.,  0.,  0., ..., nan, nan, nan], dtype=float32)</pre></div></li><li class='xr-var-item'><div class='xr-var-name'><span>wind_speed</span></div><div class='xr-var-dims'>(time)</div><div class='xr-var-dtype'>float32</div><div class='xr-var-preview xr-preview'>2.34 1.82 1.81 ... 2.42 2.88 1.82</div><input id='attrs-8503d1fa-472d-4d0e-a601-79142c6a7cf7' class='xr-var-attrs-in' type='checkbox' ><label for='attrs-8503d1fa-472d-4d0e-a601-79142c6a7cf7' title='Show/Hide attributes'><svg class='icon xr-icon-file-text2'><use xlink:href='#icon-file-text2'></use></svg></label><input id='data-f4f374cd-b02b-40cf-890a-a40fff7bede4' class='xr-var-data-in' type='checkbox'><label for='data-f4f374cd-b02b-40cf-890a-a40fff7bede4' title='Show/Hide data repr'><svg class='icon xr-icon-database'><use xlink:href='#icon-database'></use></svg></label><div class='xr-var-attrs'><dl class='xr-attrs'><dt><span>feature :</span></dt><dd>atmosphere</dd><dt><span>parameter :</span></dt><dd>wind_speed</dd><dt><span>method :</span></dt><dd>sensor_recording</dd><dt><span>product_code :</span></dt><dd>raw_data</dd><dt><span>owner :</span></dt><dd>FENZ</dd><dt><span>aggregation_statistic :</span></dt><dd>mean</dd><dt><span>frequency_interval :</span></dt><dd>1H</dd><dt><span>utc_offset :</span></dt><dd>0H</dd><dt><span>dataset_id :</span></dt><dd>0b2bd62cc42f3096136f11e9</dd><dt><span>units :</span></dt><dd>m/s</dd><dt><span>license :</span></dt><dd>https://creativecommons.org/licenses/by/4.0/</dd><dt><span>attribution :</span></dt><dd>Data licenced by FENZ</dd><dt><span>result_type :</span></dt><dd>time_series</dd><dt><span>precision :</span></dt><dd>0.01</dd><dt><span>block_length :</span></dt><dd>0.0</dd><dt><span>time_interval :</span></dt><dd>7300</dd><dt><span>standard_name :</span></dt><dd>wind_speed</dd></dl></div><div class='xr-var-data'><pre>array([2.34     , 1.8199999, 1.81     , ..., 2.4199998, 2.8799999,\n",
       "       1.8199999], dtype=float32)</pre></div></li><li class='xr-var-item'><div class='xr-var-name'><span>relative_humidity</span></div><div class='xr-var-dims'>(time)</div><div class='xr-var-dtype'>float32</div><div class='xr-var-preview xr-preview'>70.2 66.8 65.4 ... 71.6 67.8 68.2</div><input id='attrs-ffcd507a-b942-4367-8cc2-114f48711544' class='xr-var-attrs-in' type='checkbox' ><label for='attrs-ffcd507a-b942-4367-8cc2-114f48711544' title='Show/Hide attributes'><svg class='icon xr-icon-file-text2'><use xlink:href='#icon-file-text2'></use></svg></label><input id='data-3f71cb0c-361b-4c17-aa01-c132c6f80e8a' class='xr-var-data-in' type='checkbox'><label for='data-3f71cb0c-361b-4c17-aa01-c132c6f80e8a' title='Show/Hide data repr'><svg class='icon xr-icon-database'><use xlink:href='#icon-database'></use></svg></label><div class='xr-var-attrs'><dl class='xr-attrs'><dt><span>feature :</span></dt><dd>atmosphere</dd><dt><span>parameter :</span></dt><dd>relative_humidity</dd><dt><span>method :</span></dt><dd>sensor_recording</dd><dt><span>product_code :</span></dt><dd>raw_data</dd><dt><span>owner :</span></dt><dd>FENZ</dd><dt><span>aggregation_statistic :</span></dt><dd>mean</dd><dt><span>frequency_interval :</span></dt><dd>1H</dd><dt><span>utc_offset :</span></dt><dd>0H</dd><dt><span>dataset_id :</span></dt><dd>11de048221534727a01eee26</dd><dt><span>units :</span></dt><dd>m^3/m^3</dd><dt><span>license :</span></dt><dd>https://creativecommons.org/licenses/by/4.0/</dd><dt><span>attribution :</span></dt><dd>Data licenced by FENZ</dd><dt><span>result_type :</span></dt><dd>time_series</dd><dt><span>precision :</span></dt><dd>0.1</dd><dt><span>block_length :</span></dt><dd>0.0</dd><dt><span>time_interval :</span></dt><dd>7300</dd><dt><span>standard_name :</span></dt><dd>relative_humidity</dd></dl></div><div class='xr-var-data'><pre>array([70.200005, 66.8     , 65.4     , ..., 71.6     , 67.8     ,\n",
       "       68.200005], dtype=float32)</pre></div></li><li class='xr-var-item'><div class='xr-var-name'><span>volumetric_water_content</span></div><div class='xr-var-dims'>(time)</div><div class='xr-var-dtype'>float32</div><div class='xr-var-preview xr-preview'>nan nan nan nan ... 10.0 10.0 10.0</div><input id='attrs-5442c8a7-41f9-44ee-9e1d-5af9a526ea31' class='xr-var-attrs-in' type='checkbox' ><label for='attrs-5442c8a7-41f9-44ee-9e1d-5af9a526ea31' title='Show/Hide attributes'><svg class='icon xr-icon-file-text2'><use xlink:href='#icon-file-text2'></use></svg></label><input id='data-516dcf55-4f1f-4326-b3d8-75c1bf437f31' class='xr-var-data-in' type='checkbox'><label for='data-516dcf55-4f1f-4326-b3d8-75c1bf437f31' title='Show/Hide data repr'><svg class='icon xr-icon-database'><use xlink:href='#icon-database'></use></svg></label><div class='xr-var-attrs'><dl class='xr-attrs'><dt><span>feature :</span></dt><dd>pedosphere</dd><dt><span>parameter :</span></dt><dd>volumetric_water_content</dd><dt><span>method :</span></dt><dd>sensor_recording</dd><dt><span>product_code :</span></dt><dd>raw_data</dd><dt><span>owner :</span></dt><dd>FENZ</dd><dt><span>aggregation_statistic :</span></dt><dd>mean</dd><dt><span>frequency_interval :</span></dt><dd>1H</dd><dt><span>utc_offset :</span></dt><dd>0H</dd><dt><span>dataset_id :</span></dt><dd>38138ea1c3350031d1b217f6</dd><dt><span>units :</span></dt><dd>m^3/m^3</dd><dt><span>license :</span></dt><dd>https://creativecommons.org/licenses/by/4.0/</dd><dt><span>attribution :</span></dt><dd>Data licenced by FENZ</dd><dt><span>result_type :</span></dt><dd>time_series</dd><dt><span>precision :</span></dt><dd>0.1</dd><dt><span>block_length :</span></dt><dd>0.0</dd><dt><span>time_interval :</span></dt><dd>7300</dd><dt><span>standard_name :</span></dt><dd>soil_moisture</dd></dl></div><div class='xr-var-data'><pre>array([nan, nan, nan, ..., 10., 10., 10.], dtype=float32)</pre></div></li></ul></div></li><li class='xr-section-item'><input id='section-71e5b34a-55af-40bb-95d3-3663bc137e5d' class='xr-section-summary-in' type='checkbox'  checked><label for='section-71e5b34a-55af-40bb-95d3-3663bc137e5d' class='xr-section-summary' >Attributes: <span>(7)</span></label><div class='xr-section-inline-details'></div><div class='xr-section-details'><dl class='xr-attrs'><dt><span>result_type :</span></dt><dd>time_series</dd><dt><span>title :</span></dt><dd>mean wind_direction in deg of the atmosphere by a sensor_recording owned by FENZ</dd><dt><span>institution :</span></dt><dd>FENZ</dd><dt><span>license :</span></dt><dd>https://creativecommons.org/licenses/by/4.0/</dd><dt><span>source :</span></dt><dd>sensor_recording</dd><dt><span>system_version :</span></dt><dd>4</dd><dt><span>version_date :</span></dt><dd>2022-03-23T00:00:00</dd></dl></div></li></ul></div></div>"
      ],
      "text/plain": [
       "<xarray.Dataset>\n",
       "Dimensions:                   (time: 44195)\n",
       "Coordinates:\n",
       "  * time                      (time) datetime64[ns] 2017-03-15 ... 2022-03-31...\n",
       "    geometry                  <U42 '010100000092B3B0A71D4465403E3F8C101EF545C0'\n",
       "    height                    int8 2\n",
       "Data variables:\n",
       "    station_id                object 'b1ccc6ead3273d01c94501bd'\n",
       "    externalId                object 'CLIDB_43213'\n",
       "    name                      object 'Glentanner'\n",
       "    ref                       object 'glentanner'\n",
       "    wind_direction            (time) float32 113.1 116.8 97.2 ... 126.4 115.4\n",
       "    lat                       float64 -43.91\n",
       "    lon                       float64 170.1\n",
       "    temperature               (time) float32 14.8 16.0 16.8 ... 17.5 18.4 18.9\n",
       "    precipitation             (time) float32 0.0 0.0 0.0 0.0 ... nan nan nan nan\n",
       "    wind_speed                (time) float32 2.34 1.82 1.81 ... 2.42 2.88 1.82\n",
       "    relative_humidity         (time) float32 70.2 66.8 65.4 ... 71.6 67.8 68.2\n",
       "    volumetric_water_content  (time) float32 nan nan nan nan ... 10.0 10.0 10.0\n",
       "Attributes:\n",
       "    result_type:     time_series\n",
       "    title:           mean wind_direction in deg of the atmosphere by a sensor...\n",
       "    institution:     FENZ\n",
       "    license:         https://creativecommons.org/licenses/by/4.0/\n",
       "    source:          sensor_recording\n",
       "    system_version:  4\n",
       "    version_date:    2022-03-23T00:00:00"
      ]
     },
     "execution_count": 12,
     "metadata": {},
     "output_type": "execute_result"
    }
   ],
   "source": [
    "station_data"
   ]
  },
  {
   "cell_type": "code",
   "execution_count": 13,
   "id": "c58bc238-2c6e-424b-99e9-c07ea6632d10",
   "metadata": {},
   "outputs": [
    {
     "data": {
      "text/plain": [
       "[<matplotlib.lines.Line2D at 0x7ff526a62eb0>]"
      ]
     },
     "execution_count": 13,
     "metadata": {},
     "output_type": "execute_result"
    },
    {
     "data": {
      "image/png": "[encoded data removed]",
      "text/plain": [
       "<Figure size 432x288 with 1 Axes>"
      ]
     },
     "metadata": {
      "needs_background": "light"
     },
     "output_type": "display_data"
    }
   ],
   "source": [
    "station_data.sel(time=slice(\"2020-10-03\",\"2020-10-04\")).temperature.plot()"
   ]
  },
  {
   "cell_type": "markdown",
   "id": "097e649d-6511-47af-89f2-33f0c354759e",
   "metadata": {},
   "source": [
    "The fwi calculator provided in this lab has been adapted to New Zealand based on lattitude and longitude. Make sure that the temperature is in ***degree celsius***, the relative humidity is between 0 and 100,and precipitation's unit is mm. Also make sure to input the wind speed unit (either \"m/s\" or \"km/h\" depends on the data). The four atmospheric variables required for the FWI are temperature, relative humidity, wind speed and precipitation. Make sure you enter the input using the exact order. The default initial values used for the indices are ```ffmc0=85.0,dmc0=6.0,dc0=15.0```. You can also change these initial values by providing them in the input. The code below can also handle multiple stations or spatial data like WRF output."
   ]
  },
  {
   "cell_type": "code",
   "execution_count": 21,
   "id": "e34d34bf-6c89-41f6-8f5d-e317620487db",
   "metadata": {},
   "outputs": [
    {
     "name": "stdout",
     "output_type": "stream",
     "text": [
      "CPU times: user 3.99 s, sys: 0 ns, total: 3.99 s\n",
      "Wall time: 3.99 s\n"
     ]
    }
   ],
   "source": [
    "%%time\n",
    "ffmc_data, dmc_data, dc_data, isi_data, bui_data, fwi_data = fwi_calc.FWI_combined_calc(\n",
    "    station_data.temperature,\n",
    "    station_data.relative_humidity,\n",
    "    station_data.wind_speed,\n",
    "    station_data.precipitation,\n",
    "    start_date=\"2021-01-01\",  ### this date will be used to initilized the parameters\n",
    "    end_date = \"2022-01-30\",\n",
    "    ws_unit=\"m/s\"\n",
    ")"
   ]
  },
  {
   "cell_type": "code",
   "execution_count": 22,
   "id": "dcd0c795-0c82-4750-b90a-c02029dc8835",
   "metadata": {},
   "outputs": [
    {
     "data": {
      "text/plain": [
       "[<matplotlib.lines.Line2D at 0x7ff1b2761f10>]"
      ]
     },
     "execution_count": 22,
     "metadata": {},
     "output_type": "execute_result"
    },
    {
     "data": {
      "image/png": "[encoded data removed]",
      "text/plain": [
       "<Figure size 432x288 with 1 Axes>"
      ]
     },
     "metadata": {
      "needs_background": "light"
     },
     "output_type": "display_data"
    }
   ],
   "source": [
    "fwi_data.plot()"
   ]
  },
  {
   "cell_type": "markdown",
   "id": "632586ff-0405-4d9e-ad64-a20b397f35a5",
   "metadata": {},
   "source": [
    "# Tasks\n",
    "1. Because FWI is calculated recursively, strictly speaking, the starting date of FWI calculation has to follow a set of criteria (https://cwfis.cfs.nrcan.gc.ca/background/dsm/fwi). Is FWI sensitive to the starting date? Try to change the starting date of the FWI and discuss how that might impact the FWI calculation.\n",
    "2. Go to the NIWA fire weather website (https://fireweather.niwa.co.nz/indices), Find a station on that website and then calculate FWI from a station closiest to that station on Tethys. Calculate your own FWI and compare it with the NIWA's results. Are there any big differences? Try to explain it."
   ]
  },
  {
   "cell_type": "markdown",
   "id": "306a80af-b68a-4ae0-a96f-c3683a7de5a0",
   "metadata": {},
   "source": [
    "### Task 1\n",
    "\n",
    "FWI Calculation Start-up\n",
    "To determine spring start-up dates and starting fuel moisture code values, the procedures described in Turner and Lawson (1978) are used. There are two methods, depending on snow cover.\n",
    "\n",
    "Method 1\n",
    "For stations that report significant snow cover during the winter, start-up occurs when the station has been snow-free for three consecutive days. Significant snow cover is defined as a mean snow depth of more than 10 cm, with snow cover present at least 75% of the days in January and February. Start-up values are as follows:\n",
    "\n",
    "Fine Fuel Moisture Code (FFMC) is set to 85\n",
    "Duff Moisture Code (DMC) is set to 6\n",
    "Drought Code (DC) is set to 15*\n",
    "Method 2\n",
    "For stations that do not report significant snow cover during the winter, start-up occurs when the noon daily temperature is 12°C or higher for three consecutive days. The following values are used for start-up:\n",
    "\n",
    "FFMC is set to 85\n",
    "DMC is set to 2 times the number of days since precipitation\n",
    "DC is set to 5 times the number of days since precipitation*\n",
    "*Where overwinter precipitation data are available, the DC is set according to an alternative method, also found in Lawson and Armitage (2008), which takes into account the fact that saturation of the deep fuel layers might not occur over the winter. In areas with low overwinter precipitation, the starting value for the DC can be significantly higher than the default."
   ]
  },
  {
   "cell_type": "code",
   "execution_count": 38,
   "id": "1c9d5dba-4f2f-48be-adb7-b165cb7cbbfc",
   "metadata": {},
   "outputs": [
    {
     "data": {
      "text/plain": [
       "[<matplotlib.lines.Line2D at 0x7ff1a44337f0>]"
      ]
     },
     "execution_count": 38,
     "metadata": {},
     "output_type": "execute_result"
    },
    {
     "data": {
      "image/png": "[encoded data removed]",
      "text/plain": [
       "<Figure size 432x288 with 1 Axes>"
      ]
     },
     "metadata": {
      "needs_background": "light"
     },
     "output_type": "display_data"
    }
   ],
   "source": [
    "# Tried going back in time\n",
    "\n",
    "ffmc_data, dmc_data, dc_data, isi_data, bui_data, fwi_data = fwi_calc.FWI_combined_calc(\n",
    "    station_data.temperature,\n",
    "    station_data.relative_humidity,\n",
    "    station_data.wind_speed,\n",
    "    station_data.precipitation,\n",
    "    start_date=\"2020-01-01\",  ### this date will be used to initilized the parameters\n",
    "    end_date = \"2022-01-30\",\n",
    "    ws_unit=\"m/s\"\n",
    ")\n",
    "fwi_data.plot()"
   ]
  },
  {
   "cell_type": "code",
   "execution_count": 39,
   "id": "cec82fd5-3c55-46d1-a00a-c51c46eac8e0",
   "metadata": {},
   "outputs": [
    {
     "data": {
      "text/plain": [
       "[<matplotlib.lines.Line2D at 0x7ff1a437bdc0>]"
      ]
     },
     "execution_count": 39,
     "metadata": {},
     "output_type": "execute_result"
    },
    {
     "data": {
      "image/png": "[encoded data removed]",
      "text/plain": [
       "<Figure size 432x288 with 1 Axes>"
      ]
     },
     "metadata": {
      "needs_background": "light"
     },
     "output_type": "display_data"
    }
   ],
   "source": [
    "# Tried going back in time\n",
    "\n",
    "ffmc_data, dmc_data, dc_data, isi_data, bui_data, fwi_data = fwi_calc.FWI_combined_calc(\n",
    "    station_data.temperature,\n",
    "    station_data.relative_humidity,\n",
    "    station_data.wind_speed,\n",
    "    station_data.precipitation,\n",
    "    start_date=\"2018-01-01\",  ### this date will be used to initilized the parameters\n",
    "    end_date = \"2022-01-30\",\n",
    "    ws_unit=\"m/s\"\n",
    ")\n",
    "fwi_data.plot()"
   ]
  },
  {
   "cell_type": "code",
   "execution_count": 40,
   "id": "a55cdd66-abad-484d-935c-cc637717462c",
   "metadata": {},
   "outputs": [
    {
     "data": {
      "text/plain": [
       "[<matplotlib.lines.Line2D at 0x7ff1a433e5e0>]"
      ]
     },
     "execution_count": 40,
     "metadata": {},
     "output_type": "execute_result"
    },
    {
     "data": {
      "image/png": "[encoded data removed]",
      "text/plain": [
       "<Figure size 432x288 with 1 Axes>"
      ]
     },
     "metadata": {
      "needs_background": "light"
     },
     "output_type": "display_data"
    }
   ],
   "source": [
    "# Tried going back in time\n",
    "\n",
    "ffmc_data, dmc_data, dc_data, isi_data, bui_data, fwi_data = fwi_calc.FWI_combined_calc(\n",
    "    station_data.temperature,\n",
    "    station_data.relative_humidity,\n",
    "    station_data.wind_speed,\n",
    "    station_data.precipitation,\n",
    "    start_date=\"2010-01-01\",  ### this date will be used to initilized the parameters\n",
    "    end_date = \"2022-01-30\",\n",
    "    ws_unit=\"m/s\"\n",
    ")\n",
    "fwi_data.plot()"
   ]
  },
  {
   "cell_type": "markdown",
   "id": "90e66e9b-461f-4d56-9ad2-57b4b22634f6",
   "metadata": {},
   "source": [
    "The FWI seemed fine same kind of range"
   ]
  },
  {
   "cell_type": "code",
   "execution_count": null,
   "id": "af8d7ef6-453e-4500-a5ba-0e4b4a18b018",
   "metadata": {},
   "outputs": [],
   "source": []
  },
  {
   "cell_type": "markdown",
   "id": "e551a005-dd0b-48ff-9eaf-7464a675f6c1",
   "metadata": {},
   "source": [
    "The FWI seemed fine same kind of range by date, the 80 that made y so tall is not in this range so i think its fine???"
   ]
  },
  {
   "cell_type": "code",
   "execution_count": 43,
   "id": "b5a7a571-4b4d-40f4-9355-468da41c9c84",
   "metadata": {},
   "outputs": [
    {
     "data": {
      "text/plain": [
       "[<matplotlib.lines.Line2D at 0x7ff1a41e04c0>]"
      ]
     },
     "execution_count": 43,
     "metadata": {},
     "output_type": "execute_result"
    },
    {
     "data": {
      "image/png": "[encoded data removed]",
      "text/plain": [
       "<Figure size 432x288 with 1 Axes>"
      ]
     },
     "metadata": {
      "needs_background": "light"
     },
     "output_type": "display_data"
    }
   ],
   "source": [
    "# made start date closer to end date\n",
    "ffmc_data, dmc_data, dc_data, isi_data, bui_data, fwi_data = fwi_calc.FWI_combined_calc(\n",
    "    station_data.temperature,\n",
    "    station_data.relative_humidity,\n",
    "    station_data.wind_speed,\n",
    "    station_data.precipitation,\n",
    "    start_date=\"2021-10-01\",  ### this date will be used to initilized the parameters\n",
    "    end_date = \"2022-01-30\",\n",
    "    ws_unit=\"m/s\"\n",
    ")\n",
    "fwi_data.plot()"
   ]
  },
  {
   "cell_type": "code",
   "execution_count": 44,
   "id": "2390a401-05ce-42c6-a33b-8d63bc56f3a2",
   "metadata": {},
   "outputs": [
    {
     "data": {
      "text/plain": [
       "[<matplotlib.lines.Line2D at 0x7ff1a4223820>]"
      ]
     },
     "execution_count": 44,
     "metadata": {},
     "output_type": "execute_result"
    },
    {
     "data": {
      "image/png": "[encoded data removed]",
      "text/plain": [
       "<Figure size 432x288 with 1 Axes>"
      ]
     },
     "metadata": {
      "needs_background": "light"
     },
     "output_type": "display_data"
    }
   ],
   "source": [
    "# made start date closer to end date\n",
    "ffmc_data, dmc_data, dc_data, isi_data, bui_data, fwi_data = fwi_calc.FWI_combined_calc(\n",
    "    station_data.temperature,\n",
    "    station_data.relative_humidity,\n",
    "    station_data.wind_speed,\n",
    "    station_data.precipitation,\n",
    "    start_date=\"2021-06-01\",  ### this date will be used to initilized the parameters\n",
    "    end_date = \"2022-01-30\",\n",
    "    ws_unit=\"m/s\"\n",
    ")\n",
    "fwi_data.plot()"
   ]
  },
  {
   "cell_type": "code",
   "execution_count": null,
   "id": "00ba056b-a9d0-4e4f-9f5b-794ca8d16c02",
   "metadata": {},
   "outputs": [],
   "source": []
  },
  {
   "cell_type": "code",
   "execution_count": null,
   "id": "121ff5f2-1f0f-4cbd-be9c-f19d76f26802",
   "metadata": {},
   "outputs": [],
   "source": []
  },
  {
   "cell_type": "markdown",
   "id": "7a18cd8f-f5d6-4292-81de-170af472a43b",
   "metadata": {},
   "source": [
    "###### No idea wtf he wants here tbh\n",
    "\n",
    "he does not demo what he actually wants just says lots of words"
   ]
  },
  {
   "cell_type": "code",
   "execution_count": null,
   "id": "cc98cdbd-fbb7-48bb-8c2b-7cc18a4b19a8",
   "metadata": {},
   "outputs": [],
   "source": []
  },
  {
   "cell_type": "code",
   "execution_count": null,
   "id": "14a83bda-bfda-43c8-a50a-dec43e64b47f",
   "metadata": {},
   "outputs": [],
   "source": []
  },
  {
   "cell_type": "markdown",
   "id": "369b1b5c-755e-478b-a824-09b55efa6de1",
   "metadata": {},
   "source": [
    "### Task 2\n",
    "\n",
    "\n"
   ]
  },
  {
   "cell_type": "code",
   "execution_count": null,
   "id": "de9b157c-9f5e-4e58-927d-0be18dbaf245",
   "metadata": {},
   "outputs": [],
   "source": []
  }
 ],
 "metadata": {
  "kernelspec": {
   "display_name": "Python (baseline)",
   "language": "python",
   "name": "baseline"
  },
  "language_info": {
   "codemirror_mode": {
    "name": "ipython",
    "version": 3
   },
   "file_extension": ".py",
   "mimetype": "text/x-python",
   "name": "python",
   "nbconvert_exporter": "python",
   "pygments_lexer": "ipython3",
   "version": "3.8.12"
  }
 },
 "nbformat": 4,
 "nbformat_minor": 5
}
