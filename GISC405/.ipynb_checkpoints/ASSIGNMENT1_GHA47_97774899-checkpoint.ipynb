{
 "cells": [
  {
   "cell_type": "markdown",
   "id": "77680fe2-1c86-4132-b986-8951228d4f21",
   "metadata": {},
   "source": [
    "# GIS Programming and Databases\n",
    "## Assignment 1a\n",
    "\n",
    "NAME: Grey Harris\n",
    "\n",
    "ID: 97774899\n",
    "\n",
    "Due: Monday, 7th of March 2022, 10:00pm"
   ]
  },
  {
   "cell_type": "markdown",
   "id": "21dcc4f6-425b-43a4-94f5-7f49cbdb9845",
   "metadata": {},
   "source": [
    "## Imports"
   ]
  },
  {
   "cell_type": "code",
   "execution_count": 165,
   "id": "1fc2e4f5-8b40-488e-ab61-586b477349a2",
   "metadata": {},
   "outputs": [],
   "source": [
    "import xarray as xr\n",
    "import numpy as np # you can use numpy functions with xarray objects\n",
    "import salem # this will help with plotting/projection \n",
    "import cartopy.crs as ccrs # an alternative way to handle plotting/projection yourself\n",
    "import matplotlib.pyplot as plt"
   ]
  },
  {
   "cell_type": "markdown",
   "id": "cd514eeb-c907-48f6-8ad3-3d9c96138925",
   "metadata": {},
   "source": [
    "## Task 1"
   ]
  },
  {
   "cell_type": "markdown",
   "id": "1404b250-ba32-45e5-b5dd-5743e54207e9",
   "metadata": {},
   "source": [
    "### 1a, What is the total size of the entire folder?"
   ]
  },
  {
   "cell_type": "code",
   "execution_count": 166,
   "id": "51f12bba-36b9-45ad-9d98-3ac96482c444",
   "metadata": {},
   "outputs": [
    {
     "name": "stdout",
     "output_type": "stream",
     "text": [
      "/home/UOCNT/gha47/GISC405\n"
     ]
    }
   ],
   "source": [
    "! pwd"
   ]
  },
  {
   "cell_type": "code",
   "execution_count": 167,
   "id": "8e88a486-ea92-4255-b575-507b90e7af03",
   "metadata": {},
   "outputs": [
    {
     "name": "stdout",
     "output_type": "stream",
     "text": [
      "2.6T\t/mnt/data/MetService_WRF/\n"
     ]
    }
   ],
   "source": [
    "! du -sh /mnt/data/MetService_WRF/"
   ]
  },
  {
   "cell_type": "markdown",
   "id": "73dd4c4b-284e-4714-aa06-825261243b16",
   "metadata": {},
   "source": [
    "Answer = Two point six Terrabytes\n",
    "\n",
    "I used du not ls its nicer imo"
   ]
  },
  {
   "cell_type": "markdown",
   "id": "050a12e6-7d86-4c41-9648-a51bf2d1d9e4",
   "metadata": {},
   "source": [
    "### 1b, What is the total count of files present in that folder?"
   ]
  },
  {
   "cell_type": "code",
   "execution_count": 168,
   "id": "c69afd9b-354e-4d23-9442-cfcda80cfd71",
   "metadata": {},
   "outputs": [
    {
     "name": "stdout",
     "output_type": "stream",
     "text": [
      "1251\n"
     ]
    }
   ],
   "source": [
    "! ls /mnt/data/MetService_WRF/ | wc -l  # -1 is to not count the header"
   ]
  },
  {
   "cell_type": "markdown",
   "id": "c1b21e18-f2d0-48da-9c1f-047401d09cc3",
   "metadata": {},
   "source": [
    "Answer = 1251 files"
   ]
  },
  {
   "cell_type": "markdown",
   "id": "7c8f428f-dbc8-41aa-aa9b-531608f0cac2",
   "metadata": {},
   "source": [
    "## Task 2"
   ]
  },
  {
   "cell_type": "markdown",
   "id": "176709ab-cf67-4f8b-a933-226d597c0786",
   "metadata": {},
   "source": [
    "### 2a, Find another variable from the dataset that is recorded at various height levels. What is it?"
   ]
  },
  {
   "cell_type": "code",
   "execution_count": 169,
   "id": "a4756bb8-c8d4-4e6a-adaf-8322196939b4",
   "metadata": {},
   "outputs": [],
   "source": [
    "ds = xr.open_dataset(\"/mnt/data/MetService_WRF/RH_20200101000000.nc\")"
   ]
  },
  {
   "cell_type": "code",
   "execution_count": 170,
   "id": "63424f7a-e763-454a-8b89-212fb8f3881b",
   "metadata": {},
   "outputs": [],
   "source": [
    "def plotter(data, title, x, y):\n",
    "    data.plot()\n",
    "    plt.title(title)\n",
    "    plt.xlabel(x)\n",
    "    plt.ylabel(y)"
   ]
  },
  {
   "cell_type": "code",
   "execution_count": 171,
   "id": "c2de4e45-761d-48a2-91d1-77cff1a046dd",
   "metadata": {},
   "outputs": [],
   "source": [
    "def load_dataset(t, x=\"20200101000000\"):\n",
    "    path = \"/mnt/data/MetService_WRF/\"\n",
    "    return xr.open_dataset(path + t + \"_\" + x + \".nc\")\n",
    "\n",
    "temp = load_dataset(\"T\")\n",
    "vel = load_dataset(\"V\")\n",
    "vel_u = load_dataset(\"U\")\n",
    "relHum = load_dataset(\"RH\")\n",
    "smois = load_dataset(\"SMOIS\", x=\"20000101000000\")\n",
    "rain = load_dataset(\"RAINNC\")"
   ]
  },
  {
   "cell_type": "code",
   "execution_count": 172,
   "id": "ed4c65ee-479b-4c63-b37e-a96511168598",
   "metadata": {},
   "outputs": [],
   "source": [
    "# RAINNC_20170701000000.nc\n",
    "# RH_20000101000000.nc\n",
    "# T_20000101000000.nc\n",
    "# SMOIS_20000101000000.nc\n",
    "# U_20000101000000.nc\n",
    "# V_20000101000000.nc\n",
    "\n",
    "# Rain, Relative Humidity, Temperature, SMOIS???, U???, Velocity\n",
    "# not sure what Smois is, soil moisture? u is another velocity?"
   ]
  },
  {
   "cell_type": "code",
   "execution_count": 173,
   "id": "ae0b9f46-dd7f-4109-bd42-1aacca195dc4",
   "metadata": {},
   "outputs": [
    {
     "name": "stdout",
     "output_type": "stream",
     "text": [
      "<xarray.DataArray 'T' (height: 10, time: 744, lat: 508, lon: 472)>\n",
      "[1783933440 values with dtype=float32]\n",
      "Coordinates:\n",
      "  * time     (time) datetime64[ns] 2020-01-01 ... 2020-01-31T23:00:00\n",
      "  * lat      (lat) float64 -48.0 -47.97 -47.94 -47.92 ... -34.06 -34.03 -34.01\n",
      "  * lon      (lon) float64 166.0 166.0 166.1 166.1 ... 178.9 178.9 179.0 179.0\n",
      "  * height   (height) float64 2.0 20.0 30.0 40.0 ... 100.0 120.0 150.0 200.0\n"
     ]
    }
   ],
   "source": [
    "print(temp.T)"
   ]
  },
  {
   "cell_type": "code",
   "execution_count": 174,
   "id": "44fc8ae4-d5aa-492a-b6e8-8726f8c32bbf",
   "metadata": {},
   "outputs": [
    {
     "name": "stdout",
     "output_type": "stream",
     "text": [
      "<xarray.DataArray 'V' (height: 10, time: 744, lat: 508, lon: 472)>\n",
      "[1783933440 values with dtype=float32]\n",
      "Coordinates:\n",
      "  * time     (time) datetime64[ns] 2020-01-01 ... 2020-01-31T23:00:00\n",
      "  * lat      (lat) float64 -48.0 -47.97 -47.94 -47.92 ... -34.06 -34.03 -34.01\n",
      "  * lon      (lon) float64 166.0 166.0 166.1 166.1 ... 178.9 178.9 179.0 179.0\n",
      "  * height   (height) float64 10.0 20.0 30.0 40.0 ... 100.0 120.0 150.0 200.0\n"
     ]
    }
   ],
   "source": [
    "print(vel.V)"
   ]
  },
  {
   "cell_type": "code",
   "execution_count": 175,
   "id": "4eb2ef06-1c16-4904-a6ad-86cfbb4627e2",
   "metadata": {},
   "outputs": [
    {
     "name": "stdout",
     "output_type": "stream",
     "text": [
      "<xarray.DataArray 'RH' (height: 1, time: 744, lat: 508, lon: 472)>\n",
      "[178393344 values with dtype=float32]\n",
      "Coordinates:\n",
      "  * time     (time) datetime64[ns] 2020-01-01 ... 2020-01-31T23:00:00\n",
      "  * lat      (lat) float64 -48.0 -47.97 -47.94 -47.92 ... -34.06 -34.03 -34.01\n",
      "  * lon      (lon) float64 166.0 166.0 166.1 166.1 ... 178.9 178.9 179.0 179.0\n",
      "  * height   (height) float64 2.0\n"
     ]
    }
   ],
   "source": [
    "print(relHum.RH)"
   ]
  },
  {
   "cell_type": "code",
   "execution_count": 176,
   "id": "0b0cb275-a8bb-4524-8ca6-18d925514d17",
   "metadata": {},
   "outputs": [
    {
     "name": "stdout",
     "output_type": "stream",
     "text": [
      "<xarray.DataArray 'SMOIS' (height: 8, time: 744, lat: 508, lon: 472)>\n",
      "[1427146752 values with dtype=float32]\n",
      "Coordinates:\n",
      "  * time     (time) datetime64[ns] 2000-01-01 ... 2000-01-31T23:00:00\n",
      "  * lat      (lat) float64 -48.0 -47.97 -47.94 -47.92 ... -34.06 -34.03 -34.01\n",
      "  * lon      (lon) float64 166.0 166.0 166.1 166.1 ... 178.9 178.9 179.0 179.0\n",
      "  * height   (height) float64 1.0 4.0 10.0 30.0 60.0 100.0 160.0 300.0\n"
     ]
    }
   ],
   "source": [
    "print(smois.SMOIS)"
   ]
  },
  {
   "cell_type": "code",
   "execution_count": 177,
   "id": "28f260f8-5fd6-4af0-ad36-7fa585b7e21f",
   "metadata": {},
   "outputs": [
    {
     "name": "stdout",
     "output_type": "stream",
     "text": [
      "<xarray.DataArray 'U' (height: 10, time: 744, lat: 508, lon: 472)>\n",
      "[1783933440 values with dtype=float32]\n",
      "Coordinates:\n",
      "  * time     (time) datetime64[ns] 2020-01-01 ... 2020-01-31T23:00:00\n",
      "  * lat      (lat) float64 -48.0 -47.97 -47.94 -47.92 ... -34.06 -34.03 -34.01\n",
      "  * lon      (lon) float64 166.0 166.0 166.1 166.1 ... 178.9 178.9 179.0 179.0\n",
      "  * height   (height) float64 10.0 20.0 30.0 40.0 ... 100.0 120.0 150.0 200.0\n"
     ]
    }
   ],
   "source": [
    "print(vel_u.U)"
   ]
  },
  {
   "cell_type": "code",
   "execution_count": 178,
   "id": "958d5635-4bcf-4845-9e58-3447ba18e2ed",
   "metadata": {},
   "outputs": [
    {
     "name": "stdout",
     "output_type": "stream",
     "text": [
      "<xarray.DataArray 'RAINNC' (time: 744, lat: 508, lon: 472)>\n",
      "[178393344 values with dtype=float32]\n",
      "Coordinates:\n",
      "  * time     (time) datetime64[ns] 2020-01-01 ... 2020-01-31T23:00:00\n",
      "  * lat      (lat) float64 -48.0 -47.97 -47.94 -47.92 ... -34.06 -34.03 -34.01\n",
      "  * lon      (lon) float64 166.0 166.0 166.1 166.1 ... 178.9 178.9 179.0 179.0\n"
     ]
    }
   ],
   "source": [
    "print(rain.RAINNC)"
   ]
  },
  {
   "cell_type": "markdown",
   "id": "e858fde6-7ce4-4f52-9b31-2a75a138a76d",
   "metadata": {},
   "source": [
    "ANSWER:\n",
    "\n",
    "Looks like there are two velocities, moisture, humidity and temp that all have height recordings.\n",
    "\n",
    "Rain does not have height which makes sense"
   ]
  },
  {
   "cell_type": "markdown",
   "id": "6f0ce48d-6ac8-48d1-9839-d8eb434a6b68",
   "metadata": {},
   "source": [
    "### 2b, Plot a time series of Relative Humidity for the month of January of any particular year from any location at the east coast of the South Island"
   ]
  },
  {
   "cell_type": "code",
   "execution_count": 179,
   "id": "ea439645-e595-4f73-b4f9-ed2276af9e68",
   "metadata": {},
   "outputs": [
    {
     "data": {
      "text/html": [
       "<div><svg style=\"position: absolute; width: 0; height: 0; overflow: hidden\">\n",
       "<defs>\n",
       "<symbol id=\"icon-database\" viewBox=\"0 0 32 32\">\n",
       "<path d=\"M16 0c-8.837 0-16 2.239-16 5v4c0 2.761 7.163 5 16 5s16-2.239 16-5v-4c0-2.761-7.163-5-16-5z\"></path>\n",
       "<path d=\"M16 17c-8.837 0-16-2.239-16-5v6c0 2.761 7.163 5 16 5s16-2.239 16-5v-6c0 2.761-7.163 5-16 5z\"></path>\n",
       "<path d=\"M16 26c-8.837 0-16-2.239-16-5v6c0 2.761 7.163 5 16 5s16-2.239 16-5v-6c0 2.761-7.163 5-16 5z\"></path>\n",
       "</symbol>\n",
       "<symbol id=\"icon-file-text2\" viewBox=\"0 0 32 32\">\n",
       "<path d=\"M28.681 7.159c-0.694-0.947-1.662-2.053-2.724-3.116s-2.169-2.030-3.116-2.724c-1.612-1.182-2.393-1.319-2.841-1.319h-15.5c-1.378 0-2.5 1.121-2.5 2.5v27c0 1.378 1.122 2.5 2.5 2.5h23c1.378 0 2.5-1.122 2.5-2.5v-19.5c0-0.448-0.137-1.23-1.319-2.841zM24.543 5.457c0.959 0.959 1.712 1.825 2.268 2.543h-4.811v-4.811c0.718 0.556 1.584 1.309 2.543 2.268zM28 29.5c0 0.271-0.229 0.5-0.5 0.5h-23c-0.271 0-0.5-0.229-0.5-0.5v-27c0-0.271 0.229-0.5 0.5-0.5 0 0 15.499-0 15.5 0v7c0 0.552 0.448 1 1 1h7v19.5z\"></path>\n",
       "<path d=\"M23 26h-14c-0.552 0-1-0.448-1-1s0.448-1 1-1h14c0.552 0 1 0.448 1 1s-0.448 1-1 1z\"></path>\n",
       "<path d=\"M23 22h-14c-0.552 0-1-0.448-1-1s0.448-1 1-1h14c0.552 0 1 0.448 1 1s-0.448 1-1 1z\"></path>\n",
       "<path d=\"M23 18h-14c-0.552 0-1-0.448-1-1s0.448-1 1-1h14c0.552 0 1 0.448 1 1s-0.448 1-1 1z\"></path>\n",
       "</symbol>\n",
       "</defs>\n",
       "</svg>\n",
       "<style>/* CSS stylesheet for displaying xarray objects in jupyterlab.\n",
       " *\n",
       " */\n",
       "\n",
       ":root {\n",
       "  --xr-font-color0: var(--jp-content-font-color0, rgba(0, 0, 0, 1));\n",
       "  --xr-font-color2: var(--jp-content-font-color2, rgba(0, 0, 0, 0.54));\n",
       "  --xr-font-color3: var(--jp-content-font-color3, rgba(0, 0, 0, 0.38));\n",
       "  --xr-border-color: var(--jp-border-color2, #e0e0e0);\n",
       "  --xr-disabled-color: var(--jp-layout-color3, #bdbdbd);\n",
       "  --xr-background-color: var(--jp-layout-color0, white);\n",
       "  --xr-background-color-row-even: var(--jp-layout-color1, white);\n",
       "  --xr-background-color-row-odd: var(--jp-layout-color2, #eeeeee);\n",
       "}\n",
       "\n",
       "html[theme=dark],\n",
       "body.vscode-dark {\n",
       "  --xr-font-color0: rgba(255, 255, 255, 1);\n",
       "  --xr-font-color2: rgba(255, 255, 255, 0.54);\n",
       "  --xr-font-color3: rgba(255, 255, 255, 0.38);\n",
       "  --xr-border-color: #1F1F1F;\n",
       "  --xr-disabled-color: #515151;\n",
       "  --xr-background-color: #111111;\n",
       "  --xr-background-color-row-even: #111111;\n",
       "  --xr-background-color-row-odd: #313131;\n",
       "}\n",
       "\n",
       ".xr-wrap {\n",
       "  display: block !important;\n",
       "  min-width: 300px;\n",
       "  max-width: 700px;\n",
       "}\n",
       "\n",
       ".xr-text-repr-fallback {\n",
       "  /* fallback to plain text repr when CSS is not injected (untrusted notebook) */\n",
       "  display: none;\n",
       "}\n",
       "\n",
       ".xr-header {\n",
       "  padding-top: 6px;\n",
       "  padding-bottom: 6px;\n",
       "  margin-bottom: 4px;\n",
       "  border-bottom: solid 1px var(--xr-border-color);\n",
       "}\n",
       "\n",
       ".xr-header > div,\n",
       ".xr-header > ul {\n",
       "  display: inline;\n",
       "  margin-top: 0;\n",
       "  margin-bottom: 0;\n",
       "}\n",
       "\n",
       ".xr-obj-type,\n",
       ".xr-array-name {\n",
       "  margin-left: 2px;\n",
       "  margin-right: 10px;\n",
       "}\n",
       "\n",
       ".xr-obj-type {\n",
       "  color: var(--xr-font-color2);\n",
       "}\n",
       "\n",
       ".xr-sections {\n",
       "  padding-left: 0 !important;\n",
       "  display: grid;\n",
       "  grid-template-columns: 150px auto auto 1fr 20px 20px;\n",
       "}\n",
       "\n",
       ".xr-section-item {\n",
       "  display: contents;\n",
       "}\n",
       "\n",
       ".xr-section-item input {\n",
       "  display: none;\n",
       "}\n",
       "\n",
       ".xr-section-item input + label {\n",
       "  color: var(--xr-disabled-color);\n",
       "}\n",
       "\n",
       ".xr-section-item input:enabled + label {\n",
       "  cursor: pointer;\n",
       "  color: var(--xr-font-color2);\n",
       "}\n",
       "\n",
       ".xr-section-item input:enabled + label:hover {\n",
       "  color: var(--xr-font-color0);\n",
       "}\n",
       "\n",
       ".xr-section-summary {\n",
       "  grid-column: 1;\n",
       "  color: var(--xr-font-color2);\n",
       "  font-weight: 500;\n",
       "}\n",
       "\n",
       ".xr-section-summary > span {\n",
       "  display: inline-block;\n",
       "  padding-left: 0.5em;\n",
       "}\n",
       "\n",
       ".xr-section-summary-in:disabled + label {\n",
       "  color: var(--xr-font-color2);\n",
       "}\n",
       "\n",
       ".xr-section-summary-in + label:before {\n",
       "  display: inline-block;\n",
       "  content: '►';\n",
       "  font-size: 11px;\n",
       "  width: 15px;\n",
       "  text-align: center;\n",
       "}\n",
       "\n",
       ".xr-section-summary-in:disabled + label:before {\n",
       "  color: var(--xr-disabled-color);\n",
       "}\n",
       "\n",
       ".xr-section-summary-in:checked + label:before {\n",
       "  content: '▼';\n",
       "}\n",
       "\n",
       ".xr-section-summary-in:checked + label > span {\n",
       "  display: none;\n",
       "}\n",
       "\n",
       ".xr-section-summary,\n",
       ".xr-section-inline-details {\n",
       "  padding-top: 4px;\n",
       "  padding-bottom: 4px;\n",
       "}\n",
       "\n",
       ".xr-section-inline-details {\n",
       "  grid-column: 2 / -1;\n",
       "}\n",
       "\n",
       ".xr-section-details {\n",
       "  display: none;\n",
       "  grid-column: 1 / -1;\n",
       "  margin-bottom: 5px;\n",
       "}\n",
       "\n",
       ".xr-section-summary-in:checked ~ .xr-section-details {\n",
       "  display: contents;\n",
       "}\n",
       "\n",
       ".xr-array-wrap {\n",
       "  grid-column: 1 / -1;\n",
       "  display: grid;\n",
       "  grid-template-columns: 20px auto;\n",
       "}\n",
       "\n",
       ".xr-array-wrap > label {\n",
       "  grid-column: 1;\n",
       "  vertical-align: top;\n",
       "}\n",
       "\n",
       ".xr-preview {\n",
       "  color: var(--xr-font-color3);\n",
       "}\n",
       "\n",
       ".xr-array-preview,\n",
       ".xr-array-data {\n",
       "  padding: 0 5px !important;\n",
       "  grid-column: 2;\n",
       "}\n",
       "\n",
       ".xr-array-data,\n",
       ".xr-array-in:checked ~ .xr-array-preview {\n",
       "  display: none;\n",
       "}\n",
       "\n",
       ".xr-array-in:checked ~ .xr-array-data,\n",
       ".xr-array-preview {\n",
       "  display: inline-block;\n",
       "}\n",
       "\n",
       ".xr-dim-list {\n",
       "  display: inline-block !important;\n",
       "  list-style: none;\n",
       "  padding: 0 !important;\n",
       "  margin: 0;\n",
       "}\n",
       "\n",
       ".xr-dim-list li {\n",
       "  display: inline-block;\n",
       "  padding: 0;\n",
       "  margin: 0;\n",
       "}\n",
       "\n",
       ".xr-dim-list:before {\n",
       "  content: '(';\n",
       "}\n",
       "\n",
       ".xr-dim-list:after {\n",
       "  content: ')';\n",
       "}\n",
       "\n",
       ".xr-dim-list li:not(:last-child):after {\n",
       "  content: ',';\n",
       "  padding-right: 5px;\n",
       "}\n",
       "\n",
       ".xr-has-index {\n",
       "  font-weight: bold;\n",
       "}\n",
       "\n",
       ".xr-var-list,\n",
       ".xr-var-item {\n",
       "  display: contents;\n",
       "}\n",
       "\n",
       ".xr-var-item > div,\n",
       ".xr-var-item label,\n",
       ".xr-var-item > .xr-var-name span {\n",
       "  background-color: var(--xr-background-color-row-even);\n",
       "  margin-bottom: 0;\n",
       "}\n",
       "\n",
       ".xr-var-item > .xr-var-name:hover span {\n",
       "  padding-right: 5px;\n",
       "}\n",
       "\n",
       ".xr-var-list > li:nth-child(odd) > div,\n",
       ".xr-var-list > li:nth-child(odd) > label,\n",
       ".xr-var-list > li:nth-child(odd) > .xr-var-name span {\n",
       "  background-color: var(--xr-background-color-row-odd);\n",
       "}\n",
       "\n",
       ".xr-var-name {\n",
       "  grid-column: 1;\n",
       "}\n",
       "\n",
       ".xr-var-dims {\n",
       "  grid-column: 2;\n",
       "}\n",
       "\n",
       ".xr-var-dtype {\n",
       "  grid-column: 3;\n",
       "  text-align: right;\n",
       "  color: var(--xr-font-color2);\n",
       "}\n",
       "\n",
       ".xr-var-preview {\n",
       "  grid-column: 4;\n",
       "}\n",
       "\n",
       ".xr-var-name,\n",
       ".xr-var-dims,\n",
       ".xr-var-dtype,\n",
       ".xr-preview,\n",
       ".xr-attrs dt {\n",
       "  white-space: nowrap;\n",
       "  overflow: hidden;\n",
       "  text-overflow: ellipsis;\n",
       "  padding-right: 10px;\n",
       "}\n",
       "\n",
       ".xr-var-name:hover,\n",
       ".xr-var-dims:hover,\n",
       ".xr-var-dtype:hover,\n",
       ".xr-attrs dt:hover {\n",
       "  overflow: visible;\n",
       "  width: auto;\n",
       "  z-index: 1;\n",
       "}\n",
       "\n",
       ".xr-var-attrs,\n",
       ".xr-var-data {\n",
       "  display: none;\n",
       "  background-color: var(--xr-background-color) !important;\n",
       "  padding-bottom: 5px !important;\n",
       "}\n",
       "\n",
       ".xr-var-attrs-in:checked ~ .xr-var-attrs,\n",
       ".xr-var-data-in:checked ~ .xr-var-data {\n",
       "  display: block;\n",
       "}\n",
       "\n",
       ".xr-var-data > table {\n",
       "  float: right;\n",
       "}\n",
       "\n",
       ".xr-var-name span,\n",
       ".xr-var-data,\n",
       ".xr-attrs {\n",
       "  padding-left: 25px !important;\n",
       "}\n",
       "\n",
       ".xr-attrs,\n",
       ".xr-var-attrs,\n",
       ".xr-var-data {\n",
       "  grid-column: 1 / -1;\n",
       "}\n",
       "\n",
       "dl.xr-attrs {\n",
       "  padding: 0;\n",
       "  margin: 0;\n",
       "  display: grid;\n",
       "  grid-template-columns: 125px auto;\n",
       "}\n",
       "\n",
       ".xr-attrs dt,\n",
       ".xr-attrs dd {\n",
       "  padding: 0;\n",
       "  margin: 0;\n",
       "  float: left;\n",
       "  padding-right: 10px;\n",
       "  width: auto;\n",
       "}\n",
       "\n",
       ".xr-attrs dt {\n",
       "  font-weight: normal;\n",
       "  grid-column: 1;\n",
       "}\n",
       "\n",
       ".xr-attrs dt:hover span {\n",
       "  display: inline-block;\n",
       "  background: var(--xr-background-color);\n",
       "  padding-right: 10px;\n",
       "}\n",
       "\n",
       ".xr-attrs dd {\n",
       "  grid-column: 2;\n",
       "  white-space: pre-wrap;\n",
       "  word-break: break-all;\n",
       "}\n",
       "\n",
       ".xr-icon-database,\n",
       ".xr-icon-file-text2 {\n",
       "  display: inline-block;\n",
       "  vertical-align: middle;\n",
       "  width: 1em;\n",
       "  height: 1.5em !important;\n",
       "  stroke-width: 0;\n",
       "  stroke: currentColor;\n",
       "  fill: currentColor;\n",
       "}\n",
       "</style><pre class='xr-text-repr-fallback'>&lt;xarray.DataArray &#x27;RH&#x27; (height: 1, time: 744)&gt;\n",
       "array([[33.38944 , 31.320387, 36.100044, ..., 56.790565, 48.62921 , 43.01931 ]],\n",
       "      dtype=float32)\n",
       "Coordinates:\n",
       "  * time     (time) datetime64[ns] 2020-01-01 ... 2020-01-31T23:00:00\n",
       "    lat      float64 -43.0\n",
       "    lon      float64 172.0\n",
       "  * height   (height) float64 2.0</pre><div class='xr-wrap' style='display:none'><div class='xr-header'><div class='xr-obj-type'>xarray.DataArray</div><div class='xr-array-name'>'RH'</div><ul class='xr-dim-list'><li><span class='xr-has-index'>height</span>: 1</li><li><span class='xr-has-index'>time</span>: 744</li></ul></div><ul class='xr-sections'><li class='xr-section-item'><div class='xr-array-wrap'><input id='section-b9c603cd-edda-4299-8bf9-060d9b8d2213' class='xr-array-in' type='checkbox' checked><label for='section-b9c603cd-edda-4299-8bf9-060d9b8d2213' title='Show/hide data repr'><svg class='icon xr-icon-database'><use xlink:href='#icon-database'></use></svg></label><div class='xr-array-preview xr-preview'><span>33.39 31.32 36.1 40.12 42.31 45.79 ... 69.35 63.45 56.79 48.63 43.02</span></div><div class='xr-array-data'><pre>array([[33.38944 , 31.320387, 36.100044, ..., 56.790565, 48.62921 , 43.01931 ]],\n",
       "      dtype=float32)</pre></div></div></li><li class='xr-section-item'><input id='section-51669fb9-5f41-465c-a24b-e23db1623fea' class='xr-section-summary-in' type='checkbox'  checked><label for='section-51669fb9-5f41-465c-a24b-e23db1623fea' class='xr-section-summary' >Coordinates: <span>(4)</span></label><div class='xr-section-inline-details'></div><div class='xr-section-details'><ul class='xr-var-list'><li class='xr-var-item'><div class='xr-var-name'><span class='xr-has-index'>time</span></div><div class='xr-var-dims'>(time)</div><div class='xr-var-dtype'>datetime64[ns]</div><div class='xr-var-preview xr-preview'>2020-01-01 ... 2020-01-31T23:00:00</div><input id='attrs-dc6b7f77-521c-4fce-b2ce-48bf22b4a630' class='xr-var-attrs-in' type='checkbox' disabled><label for='attrs-dc6b7f77-521c-4fce-b2ce-48bf22b4a630' title='Show/Hide attributes'><svg class='icon xr-icon-file-text2'><use xlink:href='#icon-file-text2'></use></svg></label><input id='data-072daa4a-69b0-4201-88fd-4859485d5655' class='xr-var-data-in' type='checkbox'><label for='data-072daa4a-69b0-4201-88fd-4859485d5655' title='Show/Hide data repr'><svg class='icon xr-icon-database'><use xlink:href='#icon-database'></use></svg></label><div class='xr-var-attrs'><dl class='xr-attrs'></dl></div><div class='xr-var-data'><pre>array([&#x27;2020-01-01T00:00:00.000000000&#x27;, &#x27;2020-01-01T01:00:00.000000000&#x27;,\n",
       "       &#x27;2020-01-01T02:00:00.000000000&#x27;, ..., &#x27;2020-01-31T21:00:00.000000000&#x27;,\n",
       "       &#x27;2020-01-31T22:00:00.000000000&#x27;, &#x27;2020-01-31T23:00:00.000000000&#x27;],\n",
       "      dtype=&#x27;datetime64[ns]&#x27;)</pre></div></li><li class='xr-var-item'><div class='xr-var-name'><span>lat</span></div><div class='xr-var-dims'>()</div><div class='xr-var-dtype'>float64</div><div class='xr-var-preview xr-preview'>-43.0</div><input id='attrs-1acf9976-4866-406f-bb89-0311df7b736a' class='xr-var-attrs-in' type='checkbox' disabled><label for='attrs-1acf9976-4866-406f-bb89-0311df7b736a' title='Show/Hide attributes'><svg class='icon xr-icon-file-text2'><use xlink:href='#icon-file-text2'></use></svg></label><input id='data-510ff70a-58b3-4f37-8d1d-c65cbb9bca8b' class='xr-var-data-in' type='checkbox'><label for='data-510ff70a-58b3-4f37-8d1d-c65cbb9bca8b' title='Show/Hide data repr'><svg class='icon xr-icon-database'><use xlink:href='#icon-database'></use></svg></label><div class='xr-var-attrs'><dl class='xr-attrs'></dl></div><div class='xr-var-data'><pre>array(-43.0044)</pre></div></li><li class='xr-var-item'><div class='xr-var-name'><span>lon</span></div><div class='xr-var-dims'>()</div><div class='xr-var-dtype'>float64</div><div class='xr-var-preview xr-preview'>172.0</div><input id='attrs-42bdfbd0-8b84-4d58-9c38-8eefbf62c8df' class='xr-var-attrs-in' type='checkbox' disabled><label for='attrs-42bdfbd0-8b84-4d58-9c38-8eefbf62c8df' title='Show/Hide attributes'><svg class='icon xr-icon-file-text2'><use xlink:href='#icon-file-text2'></use></svg></label><input id='data-949c772d-3f29-44ce-8f3c-574c1e998434' class='xr-var-data-in' type='checkbox'><label for='data-949c772d-3f29-44ce-8f3c-574c1e998434' title='Show/Hide data repr'><svg class='icon xr-icon-database'><use xlink:href='#icon-database'></use></svg></label><div class='xr-var-attrs'><dl class='xr-attrs'></dl></div><div class='xr-var-data'><pre>array(171.9892)</pre></div></li><li class='xr-var-item'><div class='xr-var-name'><span class='xr-has-index'>height</span></div><div class='xr-var-dims'>(height)</div><div class='xr-var-dtype'>float64</div><div class='xr-var-preview xr-preview'>2.0</div><input id='attrs-75ec1b17-54b4-4b2b-8af4-7d1619b1bd1a' class='xr-var-attrs-in' type='checkbox' disabled><label for='attrs-75ec1b17-54b4-4b2b-8af4-7d1619b1bd1a' title='Show/Hide attributes'><svg class='icon xr-icon-file-text2'><use xlink:href='#icon-file-text2'></use></svg></label><input id='data-c029af78-9248-44da-bdc5-64a8cd4eb8cd' class='xr-var-data-in' type='checkbox'><label for='data-c029af78-9248-44da-bdc5-64a8cd4eb8cd' title='Show/Hide data repr'><svg class='icon xr-icon-database'><use xlink:href='#icon-database'></use></svg></label><div class='xr-var-attrs'><dl class='xr-attrs'></dl></div><div class='xr-var-data'><pre>array([2.])</pre></div></li></ul></div></li><li class='xr-section-item'><input id='section-46a0b728-3be2-43e0-b5af-51b630140915' class='xr-section-summary-in' type='checkbox' disabled ><label for='section-46a0b728-3be2-43e0-b5af-51b630140915' class='xr-section-summary'  title='Expand/collapse section'>Attributes: <span>(0)</span></label><div class='xr-section-inline-details'></div><div class='xr-section-details'><dl class='xr-attrs'></dl></div></li></ul></div></div>"
      ],
      "text/plain": [
       "<xarray.DataArray 'RH' (height: 1, time: 744)>\n",
       "array([[33.38944 , 31.320387, 36.100044, ..., 56.790565, 48.62921 , 43.01931 ]],\n",
       "      dtype=float32)\n",
       "Coordinates:\n",
       "  * time     (time) datetime64[ns] 2020-01-01 ... 2020-01-31T23:00:00\n",
       "    lat      float64 -43.0\n",
       "    lon      float64 172.0\n",
       "  * height   (height) float64 2.0"
      ]
     },
     "execution_count": 179,
     "metadata": {},
     "output_type": "execute_result"
    }
   ],
   "source": [
    "# woodend a beach near my house\n",
    "#lat, long = -43.327900, 172.710980\n",
    "woodend_loc = load_dataset(\"RH\").RH.sel(lat=-43,lon=172,method=\"nearest\")\n",
    "woodend_loc"
   ]
  },
  {
   "cell_type": "code",
   "execution_count": 180,
   "id": "ac296218-9256-415e-a100-76972f9c790c",
   "metadata": {},
   "outputs": [
    {
     "data": {
      "image/png": "[encoded data removed]",
      "text/plain": [
       "<Figure size 432x288 with 1 Axes>"
      ]
     },
     "metadata": {
      "needs_background": "light"
     },
     "output_type": "display_data"
    }
   ],
   "source": [
    "plotter(woodend_loc, \"WOODEND RELATIVE HUMIDITY\", \"DATE\", \"RELATIVE HUMIDITY\")"
   ]
  },
  {
   "cell_type": "markdown",
   "id": "7f5bc45f-2a1b-412f-b249-eb7a46c32c3d",
   "metadata": {},
   "source": [
    "### 2c, Plot a time series of air temperature at 20m above ground level for the month of January for the same location you have chosen in (b)"
   ]
  },
  {
   "cell_type": "code",
   "execution_count": 181,
   "id": "d9d4ae1a-3cd0-4bf9-9f0e-8bd0811c6fb9",
   "metadata": {},
   "outputs": [
    {
     "data": {
      "text/html": [
       "<div><svg style=\"position: absolute; width: 0; height: 0; overflow: hidden\">\n",
       "<defs>\n",
       "<symbol id=\"icon-database\" viewBox=\"0 0 32 32\">\n",
       "<path d=\"M16 0c-8.837 0-16 2.239-16 5v4c0 2.761 7.163 5 16 5s16-2.239 16-5v-4c0-2.761-7.163-5-16-5z\"></path>\n",
       "<path d=\"M16 17c-8.837 0-16-2.239-16-5v6c0 2.761 7.163 5 16 5s16-2.239 16-5v-6c0 2.761-7.163 5-16 5z\"></path>\n",
       "<path d=\"M16 26c-8.837 0-16-2.239-16-5v6c0 2.761 7.163 5 16 5s16-2.239 16-5v-6c0 2.761-7.163 5-16 5z\"></path>\n",
       "</symbol>\n",
       "<symbol id=\"icon-file-text2\" viewBox=\"0 0 32 32\">\n",
       "<path d=\"M28.681 7.159c-0.694-0.947-1.662-2.053-2.724-3.116s-2.169-2.030-3.116-2.724c-1.612-1.182-2.393-1.319-2.841-1.319h-15.5c-1.378 0-2.5 1.121-2.5 2.5v27c0 1.378 1.122 2.5 2.5 2.5h23c1.378 0 2.5-1.122 2.5-2.5v-19.5c0-0.448-0.137-1.23-1.319-2.841zM24.543 5.457c0.959 0.959 1.712 1.825 2.268 2.543h-4.811v-4.811c0.718 0.556 1.584 1.309 2.543 2.268zM28 29.5c0 0.271-0.229 0.5-0.5 0.5h-23c-0.271 0-0.5-0.229-0.5-0.5v-27c0-0.271 0.229-0.5 0.5-0.5 0 0 15.499-0 15.5 0v7c0 0.552 0.448 1 1 1h7v19.5z\"></path>\n",
       "<path d=\"M23 26h-14c-0.552 0-1-0.448-1-1s0.448-1 1-1h14c0.552 0 1 0.448 1 1s-0.448 1-1 1z\"></path>\n",
       "<path d=\"M23 22h-14c-0.552 0-1-0.448-1-1s0.448-1 1-1h14c0.552 0 1 0.448 1 1s-0.448 1-1 1z\"></path>\n",
       "<path d=\"M23 18h-14c-0.552 0-1-0.448-1-1s0.448-1 1-1h14c0.552 0 1 0.448 1 1s-0.448 1-1 1z\"></path>\n",
       "</symbol>\n",
       "</defs>\n",
       "</svg>\n",
       "<style>/* CSS stylesheet for displaying xarray objects in jupyterlab.\n",
       " *\n",
       " */\n",
       "\n",
       ":root {\n",
       "  --xr-font-color0: var(--jp-content-font-color0, rgba(0, 0, 0, 1));\n",
       "  --xr-font-color2: var(--jp-content-font-color2, rgba(0, 0, 0, 0.54));\n",
       "  --xr-font-color3: var(--jp-content-font-color3, rgba(0, 0, 0, 0.38));\n",
       "  --xr-border-color: var(--jp-border-color2, #e0e0e0);\n",
       "  --xr-disabled-color: var(--jp-layout-color3, #bdbdbd);\n",
       "  --xr-background-color: var(--jp-layout-color0, white);\n",
       "  --xr-background-color-row-even: var(--jp-layout-color1, white);\n",
       "  --xr-background-color-row-odd: var(--jp-layout-color2, #eeeeee);\n",
       "}\n",
       "\n",
       "html[theme=dark],\n",
       "body.vscode-dark {\n",
       "  --xr-font-color0: rgba(255, 255, 255, 1);\n",
       "  --xr-font-color2: rgba(255, 255, 255, 0.54);\n",
       "  --xr-font-color3: rgba(255, 255, 255, 0.38);\n",
       "  --xr-border-color: #1F1F1F;\n",
       "  --xr-disabled-color: #515151;\n",
       "  --xr-background-color: #111111;\n",
       "  --xr-background-color-row-even: #111111;\n",
       "  --xr-background-color-row-odd: #313131;\n",
       "}\n",
       "\n",
       ".xr-wrap {\n",
       "  display: block !important;\n",
       "  min-width: 300px;\n",
       "  max-width: 700px;\n",
       "}\n",
       "\n",
       ".xr-text-repr-fallback {\n",
       "  /* fallback to plain text repr when CSS is not injected (untrusted notebook) */\n",
       "  display: none;\n",
       "}\n",
       "\n",
       ".xr-header {\n",
       "  padding-top: 6px;\n",
       "  padding-bottom: 6px;\n",
       "  margin-bottom: 4px;\n",
       "  border-bottom: solid 1px var(--xr-border-color);\n",
       "}\n",
       "\n",
       ".xr-header > div,\n",
       ".xr-header > ul {\n",
       "  display: inline;\n",
       "  margin-top: 0;\n",
       "  margin-bottom: 0;\n",
       "}\n",
       "\n",
       ".xr-obj-type,\n",
       ".xr-array-name {\n",
       "  margin-left: 2px;\n",
       "  margin-right: 10px;\n",
       "}\n",
       "\n",
       ".xr-obj-type {\n",
       "  color: var(--xr-font-color2);\n",
       "}\n",
       "\n",
       ".xr-sections {\n",
       "  padding-left: 0 !important;\n",
       "  display: grid;\n",
       "  grid-template-columns: 150px auto auto 1fr 20px 20px;\n",
       "}\n",
       "\n",
       ".xr-section-item {\n",
       "  display: contents;\n",
       "}\n",
       "\n",
       ".xr-section-item input {\n",
       "  display: none;\n",
       "}\n",
       "\n",
       ".xr-section-item input + label {\n",
       "  color: var(--xr-disabled-color);\n",
       "}\n",
       "\n",
       ".xr-section-item input:enabled + label {\n",
       "  cursor: pointer;\n",
       "  color: var(--xr-font-color2);\n",
       "}\n",
       "\n",
       ".xr-section-item input:enabled + label:hover {\n",
       "  color: var(--xr-font-color0);\n",
       "}\n",
       "\n",
       ".xr-section-summary {\n",
       "  grid-column: 1;\n",
       "  color: var(--xr-font-color2);\n",
       "  font-weight: 500;\n",
       "}\n",
       "\n",
       ".xr-section-summary > span {\n",
       "  display: inline-block;\n",
       "  padding-left: 0.5em;\n",
       "}\n",
       "\n",
       ".xr-section-summary-in:disabled + label {\n",
       "  color: var(--xr-font-color2);\n",
       "}\n",
       "\n",
       ".xr-section-summary-in + label:before {\n",
       "  display: inline-block;\n",
       "  content: '►';\n",
       "  font-size: 11px;\n",
       "  width: 15px;\n",
       "  text-align: center;\n",
       "}\n",
       "\n",
       ".xr-section-summary-in:disabled + label:before {\n",
       "  color: var(--xr-disabled-color);\n",
       "}\n",
       "\n",
       ".xr-section-summary-in:checked + label:before {\n",
       "  content: '▼';\n",
       "}\n",
       "\n",
       ".xr-section-summary-in:checked + label > span {\n",
       "  display: none;\n",
       "}\n",
       "\n",
       ".xr-section-summary,\n",
       ".xr-section-inline-details {\n",
       "  padding-top: 4px;\n",
       "  padding-bottom: 4px;\n",
       "}\n",
       "\n",
       ".xr-section-inline-details {\n",
       "  grid-column: 2 / -1;\n",
       "}\n",
       "\n",
       ".xr-section-details {\n",
       "  display: none;\n",
       "  grid-column: 1 / -1;\n",
       "  margin-bottom: 5px;\n",
       "}\n",
       "\n",
       ".xr-section-summary-in:checked ~ .xr-section-details {\n",
       "  display: contents;\n",
       "}\n",
       "\n",
       ".xr-array-wrap {\n",
       "  grid-column: 1 / -1;\n",
       "  display: grid;\n",
       "  grid-template-columns: 20px auto;\n",
       "}\n",
       "\n",
       ".xr-array-wrap > label {\n",
       "  grid-column: 1;\n",
       "  vertical-align: top;\n",
       "}\n",
       "\n",
       ".xr-preview {\n",
       "  color: var(--xr-font-color3);\n",
       "}\n",
       "\n",
       ".xr-array-preview,\n",
       ".xr-array-data {\n",
       "  padding: 0 5px !important;\n",
       "  grid-column: 2;\n",
       "}\n",
       "\n",
       ".xr-array-data,\n",
       ".xr-array-in:checked ~ .xr-array-preview {\n",
       "  display: none;\n",
       "}\n",
       "\n",
       ".xr-array-in:checked ~ .xr-array-data,\n",
       ".xr-array-preview {\n",
       "  display: inline-block;\n",
       "}\n",
       "\n",
       ".xr-dim-list {\n",
       "  display: inline-block !important;\n",
       "  list-style: none;\n",
       "  padding: 0 !important;\n",
       "  margin: 0;\n",
       "}\n",
       "\n",
       ".xr-dim-list li {\n",
       "  display: inline-block;\n",
       "  padding: 0;\n",
       "  margin: 0;\n",
       "}\n",
       "\n",
       ".xr-dim-list:before {\n",
       "  content: '(';\n",
       "}\n",
       "\n",
       ".xr-dim-list:after {\n",
       "  content: ')';\n",
       "}\n",
       "\n",
       ".xr-dim-list li:not(:last-child):after {\n",
       "  content: ',';\n",
       "  padding-right: 5px;\n",
       "}\n",
       "\n",
       ".xr-has-index {\n",
       "  font-weight: bold;\n",
       "}\n",
       "\n",
       ".xr-var-list,\n",
       ".xr-var-item {\n",
       "  display: contents;\n",
       "}\n",
       "\n",
       ".xr-var-item > div,\n",
       ".xr-var-item label,\n",
       ".xr-var-item > .xr-var-name span {\n",
       "  background-color: var(--xr-background-color-row-even);\n",
       "  margin-bottom: 0;\n",
       "}\n",
       "\n",
       ".xr-var-item > .xr-var-name:hover span {\n",
       "  padding-right: 5px;\n",
       "}\n",
       "\n",
       ".xr-var-list > li:nth-child(odd) > div,\n",
       ".xr-var-list > li:nth-child(odd) > label,\n",
       ".xr-var-list > li:nth-child(odd) > .xr-var-name span {\n",
       "  background-color: var(--xr-background-color-row-odd);\n",
       "}\n",
       "\n",
       ".xr-var-name {\n",
       "  grid-column: 1;\n",
       "}\n",
       "\n",
       ".xr-var-dims {\n",
       "  grid-column: 2;\n",
       "}\n",
       "\n",
       ".xr-var-dtype {\n",
       "  grid-column: 3;\n",
       "  text-align: right;\n",
       "  color: var(--xr-font-color2);\n",
       "}\n",
       "\n",
       ".xr-var-preview {\n",
       "  grid-column: 4;\n",
       "}\n",
       "\n",
       ".xr-var-name,\n",
       ".xr-var-dims,\n",
       ".xr-var-dtype,\n",
       ".xr-preview,\n",
       ".xr-attrs dt {\n",
       "  white-space: nowrap;\n",
       "  overflow: hidden;\n",
       "  text-overflow: ellipsis;\n",
       "  padding-right: 10px;\n",
       "}\n",
       "\n",
       ".xr-var-name:hover,\n",
       ".xr-var-dims:hover,\n",
       ".xr-var-dtype:hover,\n",
       ".xr-attrs dt:hover {\n",
       "  overflow: visible;\n",
       "  width: auto;\n",
       "  z-index: 1;\n",
       "}\n",
       "\n",
       ".xr-var-attrs,\n",
       ".xr-var-data {\n",
       "  display: none;\n",
       "  background-color: var(--xr-background-color) !important;\n",
       "  padding-bottom: 5px !important;\n",
       "}\n",
       "\n",
       ".xr-var-attrs-in:checked ~ .xr-var-attrs,\n",
       ".xr-var-data-in:checked ~ .xr-var-data {\n",
       "  display: block;\n",
       "}\n",
       "\n",
       ".xr-var-data > table {\n",
       "  float: right;\n",
       "}\n",
       "\n",
       ".xr-var-name span,\n",
       ".xr-var-data,\n",
       ".xr-attrs {\n",
       "  padding-left: 25px !important;\n",
       "}\n",
       "\n",
       ".xr-attrs,\n",
       ".xr-var-attrs,\n",
       ".xr-var-data {\n",
       "  grid-column: 1 / -1;\n",
       "}\n",
       "\n",
       "dl.xr-attrs {\n",
       "  padding: 0;\n",
       "  margin: 0;\n",
       "  display: grid;\n",
       "  grid-template-columns: 125px auto;\n",
       "}\n",
       "\n",
       ".xr-attrs dt,\n",
       ".xr-attrs dd {\n",
       "  padding: 0;\n",
       "  margin: 0;\n",
       "  float: left;\n",
       "  padding-right: 10px;\n",
       "  width: auto;\n",
       "}\n",
       "\n",
       ".xr-attrs dt {\n",
       "  font-weight: normal;\n",
       "  grid-column: 1;\n",
       "}\n",
       "\n",
       ".xr-attrs dt:hover span {\n",
       "  display: inline-block;\n",
       "  background: var(--xr-background-color);\n",
       "  padding-right: 10px;\n",
       "}\n",
       "\n",
       ".xr-attrs dd {\n",
       "  grid-column: 2;\n",
       "  white-space: pre-wrap;\n",
       "  word-break: break-all;\n",
       "}\n",
       "\n",
       ".xr-icon-database,\n",
       ".xr-icon-file-text2 {\n",
       "  display: inline-block;\n",
       "  vertical-align: middle;\n",
       "  width: 1em;\n",
       "  height: 1.5em !important;\n",
       "  stroke-width: 0;\n",
       "  stroke: currentColor;\n",
       "  fill: currentColor;\n",
       "}\n",
       "</style><pre class='xr-text-repr-fallback'>&lt;xarray.DataArray &#x27;height&#x27; (height: 10)&gt;\n",
       "array([  2.,  20.,  30.,  40.,  50.,  80., 100., 120., 150., 200.])\n",
       "Coordinates:\n",
       "    lat      float64 -43.0\n",
       "    lon      float64 172.0\n",
       "  * height   (height) float64 2.0 20.0 30.0 40.0 ... 100.0 120.0 150.0 200.0</pre><div class='xr-wrap' style='display:none'><div class='xr-header'><div class='xr-obj-type'>xarray.DataArray</div><div class='xr-array-name'>'height'</div><ul class='xr-dim-list'><li><span class='xr-has-index'>height</span>: 10</li></ul></div><ul class='xr-sections'><li class='xr-section-item'><div class='xr-array-wrap'><input id='section-7b975d0e-77e3-4903-8292-1a06b168bb69' class='xr-array-in' type='checkbox' checked><label for='section-7b975d0e-77e3-4903-8292-1a06b168bb69' title='Show/hide data repr'><svg class='icon xr-icon-database'><use xlink:href='#icon-database'></use></svg></label><div class='xr-array-preview xr-preview'><span>2.0 20.0 30.0 40.0 50.0 80.0 100.0 120.0 150.0 200.0</span></div><div class='xr-array-data'><pre>array([  2.,  20.,  30.,  40.,  50.,  80., 100., 120., 150., 200.])</pre></div></div></li><li class='xr-section-item'><input id='section-de0ceba0-4e9b-4ede-86b8-eb507f0c607e' class='xr-section-summary-in' type='checkbox'  checked><label for='section-de0ceba0-4e9b-4ede-86b8-eb507f0c607e' class='xr-section-summary' >Coordinates: <span>(3)</span></label><div class='xr-section-inline-details'></div><div class='xr-section-details'><ul class='xr-var-list'><li class='xr-var-item'><div class='xr-var-name'><span>lat</span></div><div class='xr-var-dims'>()</div><div class='xr-var-dtype'>float64</div><div class='xr-var-preview xr-preview'>-43.0</div><input id='attrs-2dca919d-5d09-46de-8585-b909450e3254' class='xr-var-attrs-in' type='checkbox' disabled><label for='attrs-2dca919d-5d09-46de-8585-b909450e3254' title='Show/Hide attributes'><svg class='icon xr-icon-file-text2'><use xlink:href='#icon-file-text2'></use></svg></label><input id='data-f51b2331-2190-47f4-838c-c533d8efa001' class='xr-var-data-in' type='checkbox'><label for='data-f51b2331-2190-47f4-838c-c533d8efa001' title='Show/Hide data repr'><svg class='icon xr-icon-database'><use xlink:href='#icon-database'></use></svg></label><div class='xr-var-attrs'><dl class='xr-attrs'></dl></div><div class='xr-var-data'><pre>array(-43.0044)</pre></div></li><li class='xr-var-item'><div class='xr-var-name'><span>lon</span></div><div class='xr-var-dims'>()</div><div class='xr-var-dtype'>float64</div><div class='xr-var-preview xr-preview'>172.0</div><input id='attrs-4fb7f3f0-1a8b-4c8f-b712-0712e0e19f23' class='xr-var-attrs-in' type='checkbox' disabled><label for='attrs-4fb7f3f0-1a8b-4c8f-b712-0712e0e19f23' title='Show/Hide attributes'><svg class='icon xr-icon-file-text2'><use xlink:href='#icon-file-text2'></use></svg></label><input id='data-35c5016c-89d4-4b0b-ad7f-e8ab6d32629a' class='xr-var-data-in' type='checkbox'><label for='data-35c5016c-89d4-4b0b-ad7f-e8ab6d32629a' title='Show/Hide data repr'><svg class='icon xr-icon-database'><use xlink:href='#icon-database'></use></svg></label><div class='xr-var-attrs'><dl class='xr-attrs'></dl></div><div class='xr-var-data'><pre>array(171.9892)</pre></div></li><li class='xr-var-item'><div class='xr-var-name'><span class='xr-has-index'>height</span></div><div class='xr-var-dims'>(height)</div><div class='xr-var-dtype'>float64</div><div class='xr-var-preview xr-preview'>2.0 20.0 30.0 ... 120.0 150.0 200.0</div><input id='attrs-93a338cc-ba7a-4f99-a1ed-9efca88ec00e' class='xr-var-attrs-in' type='checkbox' disabled><label for='attrs-93a338cc-ba7a-4f99-a1ed-9efca88ec00e' title='Show/Hide attributes'><svg class='icon xr-icon-file-text2'><use xlink:href='#icon-file-text2'></use></svg></label><input id='data-24fe24d0-87bb-43de-aa23-1bbea2c4746f' class='xr-var-data-in' type='checkbox'><label for='data-24fe24d0-87bb-43de-aa23-1bbea2c4746f' title='Show/Hide data repr'><svg class='icon xr-icon-database'><use xlink:href='#icon-database'></use></svg></label><div class='xr-var-attrs'><dl class='xr-attrs'></dl></div><div class='xr-var-data'><pre>array([  2.,  20.,  30.,  40.,  50.,  80., 100., 120., 150., 200.])</pre></div></li></ul></div></li><li class='xr-section-item'><input id='section-3826ada6-90d4-4f2e-9073-41a770c46e56' class='xr-section-summary-in' type='checkbox' disabled ><label for='section-3826ada6-90d4-4f2e-9073-41a770c46e56' class='xr-section-summary'  title='Expand/collapse section'>Attributes: <span>(0)</span></label><div class='xr-section-inline-details'></div><div class='xr-section-details'><dl class='xr-attrs'></dl></div></li></ul></div></div>"
      ],
      "text/plain": [
       "<xarray.DataArray 'height' (height: 10)>\n",
       "array([  2.,  20.,  30.,  40.,  50.,  80., 100., 120., 150., 200.])\n",
       "Coordinates:\n",
       "    lat      float64 -43.0\n",
       "    lon      float64 172.0\n",
       "  * height   (height) float64 2.0 20.0 30.0 40.0 ... 100.0 120.0 150.0 200.0"
      ]
     },
     "execution_count": 181,
     "metadata": {},
     "output_type": "execute_result"
    }
   ],
   "source": [
    "# still woodend data to find the 20m index\n",
    "woodend_temp = load_dataset(\"T\").T.sel(lat=-43,lon=172,method=\"nearest\")\n",
    "woodend_temp.height"
   ]
  },
  {
   "cell_type": "code",
   "execution_count": 182,
   "id": "f04ca977-2493-4896-b6c5-fcf50120abd8",
   "metadata": {},
   "outputs": [
    {
     "data": {
      "image/png": "[encoded data removed]",
      "text/plain": [
       "<Figure size 432x288 with 1 Axes>"
      ]
     },
     "metadata": {
      "needs_background": "light"
     },
     "output_type": "display_data"
    }
   ],
   "source": [
    "# still woodend data but only at 20m\n",
    "index_20m = 1\n",
    "woodend_temp_20m = load_dataset(\"T\").T[index_20m, :, :, :].sel(lat=-43,lon=172,method=\"nearest\")\n",
    "woodend_temp_20m\n",
    "\n",
    "plotter(woodend_temp_20m, \"WOODEND TEMP 20M\", \"DATE\", \"TEMP\")"
   ]
  },
  {
   "cell_type": "markdown",
   "id": "08410e48-7e9a-4e56-ad8a-c26277684cc2",
   "metadata": {},
   "source": [
    "### 2d, Redo (b) and (c) over a 48 hour period of any two days of your choice"
   ]
  },
  {
   "cell_type": "code",
   "execution_count": 183,
   "id": "a4b2e606-8554-41dc-a177-484cad153793",
   "metadata": {},
   "outputs": [],
   "source": [
    "time = slice(\"2020-01-15\",\"2020-01-16\") #15th and 16th of jan 2020\n",
    "#temp = load_dataset(\"T\").T[index_20m, :, :, :].sel(lat=-43,lon=172,method=\"nearest\").sel(time=time) #doing height splice first to speed up selecions\n",
    "#relHum = load_dataset(\"RH\").RH.sel(lat=-43,lon=172,method=\"nearest\").sel(time=time)"
   ]
  },
  {
   "cell_type": "code",
   "execution_count": 184,
   "id": "8ff85059-51d3-48ee-8ffb-47ae10f86a99",
   "metadata": {},
   "outputs": [
    {
     "data": {
      "image/png": "[encoded data removed]",
      "text/plain": [
       "<Figure size 432x288 with 1 Axes>"
      ]
     },
     "metadata": {
      "needs_background": "light"
     },
     "output_type": "display_data"
    }
   ],
   "source": [
    "data = load_dataset(\"T\").T[index_20m, :, :, :].sel(lat=-43,lon=172,method=\"nearest\").sel(time=time)\n",
    "plotter(data, \"WOODEND 20M TEMPERATURE\", \"DATE\", \"TEMP\")"
   ]
  },
  {
   "cell_type": "code",
   "execution_count": 185,
   "id": "773c8b96-1c62-442a-a293-cd087fd81f35",
   "metadata": {},
   "outputs": [
    {
     "data": {
      "image/png": "[encoded data removed]",
      "text/plain": [
       "<Figure size 432x288 with 1 Axes>"
      ]
     },
     "metadata": {
      "needs_background": "light"
     },
     "output_type": "display_data"
    }
   ],
   "source": [
    "data = load_dataset(\"RH\").RH.sel(lat=-43,lon=172,method=\"nearest\").sel(time=time)\n",
    "plotter(data, \"WOODEND 20M RELATIVE HUMIDITY\", \"DATE\", \"HUMIDITY\")"
   ]
  },
  {
   "cell_type": "code",
   "execution_count": null,
   "id": "ad24b73b-d1c4-4109-aba7-09fce4ee602c",
   "metadata": {},
   "outputs": [],
   "source": []
  },
  {
   "cell_type": "code",
   "execution_count": null,
   "id": "87f19b0a-4b2a-4f45-a79d-a574fe2e324b",
   "metadata": {},
   "outputs": [],
   "source": []
  }
 ],
 "metadata": {
  "kernelspec": {
   "display_name": "Python (baseline)",
   "language": "python",
   "name": "baseline"
  },
  "language_info": {
   "codemirror_mode": {
    "name": "ipython",
    "version": 3
   },
   "file_extension": ".py",
   "mimetype": "text/x-python",
   "name": "python",
   "nbconvert_exporter": "python",
   "pygments_lexer": "ipython3",
   "version": "3.8.12"
  },
  "toc-autonumbering": false,
  "toc-showmarkdowntxt": true
 },
 "nbformat": 4,
 "nbformat_minor": 5
}
