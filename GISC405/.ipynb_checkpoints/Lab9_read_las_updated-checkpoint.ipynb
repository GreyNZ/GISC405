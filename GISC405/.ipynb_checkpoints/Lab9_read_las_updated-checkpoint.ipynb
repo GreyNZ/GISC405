{
 "cells": [
  {
   "cell_type": "markdown",
   "id": "e109d57f-bb99-4c38-bdc4-31c096615bec",
   "metadata": {},
   "source": [
    "## Intro\n",
    "Terrestrial lidar is a powerful tool to obtain ultra-high resolution geoinformation. These informations are crutial for many applications including forest management, urban planning and microscale climatology/meteorology/environment. Lidar data generally can be handled using tools like LAStools and other softwares. However, we can still use some opensource tools to do some data processing on the Lidar data.\n",
    "\n",
    "In this lab, we will use a library called pylas to crop a Lidar file to a smaller area and then use an online tool to visualize it."
   ]
  },
  {
   "cell_type": "code",
   "execution_count": 1,
   "id": "b254a9fe-7c0a-4049-b111-b1115dd1e680",
   "metadata": {},
   "outputs": [],
   "source": [
    "import pylas\n",
    "import numpy as np\n",
    "import os"
   ]
  },
  {
   "cell_type": "code",
   "execution_count": 2,
   "id": "fa1c51be-05a3-451e-8b37-ca8a247f754a",
   "metadata": {},
   "outputs": [],
   "source": [
    "las_data=pylas.read(\"/mnt/data/LIDAR/las_roi.las\")"
   ]
  },
  {
   "cell_type": "markdown",
   "id": "55b62ccb-c2e5-4979-8ff9-5d9210330f46",
   "metadata": {},
   "source": [
    "The pylas website has a quite easy to follow explanation of the las file structure. https://pylas.readthedocs.io/en/latest/intro.html\n",
    "\n",
    "You can use header to access a lot of meta information of the data."
   ]
  },
  {
   "cell_type": "code",
   "execution_count": 3,
   "id": "076d0709-7433-4b64-b9dc-623f24ac8e70",
   "metadata": {},
   "outputs": [
    {
     "data": {
      "text/plain": [
       "<LasHeader(1.2)>"
      ]
     },
     "execution_count": 3,
     "metadata": {},
     "output_type": "execute_result"
    }
   ],
   "source": [
    "las_data.header"
   ]
  },
  {
   "cell_type": "code",
   "execution_count": 8,
   "id": "4e22861c-09dc-474b-a886-818a434f1c18",
   "metadata": {},
   "outputs": [
    {
     "data": {
      "text/plain": [
       "datetime.date(2022, 5, 16)"
      ]
     },
     "execution_count": 8,
     "metadata": {},
     "output_type": "execute_result"
    }
   ],
   "source": [
    "las_data.header.date"
   ]
  },
  {
   "cell_type": "code",
   "execution_count": 9,
   "id": "0e8ce9bc-a30d-440a-b922-14e8ed0d2d51",
   "metadata": {},
   "outputs": [
    {
     "data": {
      "text/plain": [
       "301850249"
      ]
     },
     "execution_count": 9,
     "metadata": {},
     "output_type": "execute_result"
    }
   ],
   "source": [
    "las_data.header.point_count"
   ]
  },
  {
   "cell_type": "code",
   "execution_count": 10,
   "id": "b5aba464-0024-42b5-a9a5-f8a690ef2c5e",
   "metadata": {},
   "outputs": [
    {
     "data": {
      "text/plain": [
       "3"
      ]
     },
     "execution_count": 10,
     "metadata": {},
     "output_type": "execute_result"
    }
   ],
   "source": [
    "las_data.header.point_format_id"
   ]
  },
  {
   "cell_type": "markdown",
   "id": "3726eca9-814f-4740-a793-12e4cc549bae",
   "metadata": {},
   "source": [
    "The vlrs (Variable Length Record) can also be easily accessed."
   ]
  },
  {
   "cell_type": "code",
   "execution_count": 11,
   "id": "f5c0aaa7-2d61-46ad-bf79-0763c4405ab3",
   "metadata": {},
   "outputs": [
    {
     "data": {
      "text/plain": [
       "[<GeoKeyDirectoryVlr(25 geo_keys)>, <GeoDoubleParamsVlr([c_double(6378137.0), c_double(298.257222101), c_double(0.0), c_double(0.0), c_double(173.0), c_double(1600000.0), c_double(10000000.0), c_double(0.9996)])>, <GeoAsciiParamsVlr(['NZGD2000 / NZTM2000|NZGD2000 / NZTM2000|NZGD2000|'])>]"
      ]
     },
     "execution_count": 11,
     "metadata": {},
     "output_type": "execute_result"
    }
   ],
   "source": [
    "las_data.vlrs # NZTM2000"
   ]
  },
  {
   "cell_type": "code",
   "execution_count": 12,
   "id": "a7725cb5-3bc2-4899-a239-442ece9a40c0",
   "metadata": {},
   "outputs": [
    {
     "data": {
      "text/plain": [
       "<PointFormat(3)>"
      ]
     },
     "execution_count": 12,
     "metadata": {},
     "output_type": "execute_result"
    }
   ],
   "source": [
    "las_data.point_format"
   ]
  },
  {
   "cell_type": "markdown",
   "id": "347e60f9-7d24-4f3e-b6da-49563ff27de4",
   "metadata": {},
   "source": [
    "The format defines the structure of the points (how many paramters does the point data have)"
   ]
  },
  {
   "cell_type": "code",
   "execution_count": 13,
   "id": "1edf0ced-36cb-4d82-a50c-14ac844d1d2e",
   "metadata": {},
   "outputs": [
    {
     "data": {
      "text/plain": [
       "array([( 664365, 1189988, 95581, 44279, 137, 0, -28, 0, 0, 4372.6413125, 17476, 15677, 13621),\n",
       "       ( 664242, 1190118, 95596, 43624, 137, 0, -28, 0, 0, 4372.6459211, 16962, 15163, 13364),\n",
       "       ( 664726, 1189985, 95587, 44498, 137, 0, -28, 0, 0, 4372.6367009, 17476, 15934, 13621),\n",
       "       ...,\n",
       "       (1012364, 3910007,  4940, 21823, 137, 0,  -1, 0, 0, 6467.9845812, 11565, 20303, 22873),\n",
       "       (1013573, 3910024,  4925, 54197, 137, 0,  -1, 0, 0, 6468.0122283, 11822, 20303, 23130),\n",
       "       (1013668, 3910702,  4893, 15073, 137, 0,  -1, 0, 0, 6468.0214517, 11308, 20046, 22616)],\n",
       "      dtype=[('X', '<i4'), ('Y', '<i4'), ('Z', '<i4'), ('intensity', '<u2'), ('bit_fields', 'u1'), ('raw_classification', 'u1'), ('scan_angle_rank', 'i1'), ('user_data', 'u1'), ('point_source_id', '<u2'), ('gps_time', '<f8'), ('red', '<u2'), ('green', '<u2'), ('blue', '<u2')])"
      ]
     },
     "execution_count": 13,
     "metadata": {},
     "output_type": "execute_result"
    }
   ],
   "source": [
    "las_data.points           #all the point data. Here, each point data entry reads to the memory as an element of a numpy array"
   ]
  },
  {
   "cell_type": "code",
   "execution_count": 14,
   "id": "a0223712-4117-4f61-94f9-78ed844073a5",
   "metadata": {},
   "outputs": [
    {
     "data": {
      "text/plain": [
       "(301850249,)"
      ]
     },
     "execution_count": 14,
     "metadata": {},
     "output_type": "execute_result"
    }
   ],
   "source": [
    "las_data.points.shape"
   ]
  },
  {
   "cell_type": "code",
   "execution_count": 16,
   "id": "99102221-2f39-4d8d-8aa3-dcddc7d1d07f",
   "metadata": {},
   "outputs": [
    {
     "data": {
      "text/plain": [
       "array([1346976.366, 1346976.243, 1346976.727, ..., 1347324.365,\n",
       "       1347325.574, 1347325.669])"
      ]
     },
     "execution_count": 16,
     "metadata": {},
     "output_type": "execute_result"
    }
   ],
   "source": [
    "las_data.x"
   ]
  },
  {
   "cell_type": "markdown",
   "id": "7e80b1bd-b101-4b33-a253-ca377ca63e35",
   "metadata": {},
   "source": [
    "### Create a new file to store the cropped data."
   ]
  },
  {
   "cell_type": "code",
   "execution_count": 21,
   "id": "cd3e791c-e963-4906-a099-20eb96a11883",
   "metadata": {},
   "outputs": [],
   "source": [
    "new_file = pylas.create(point_format_id=las_data.header.point_format_id, file_version=las_data.header.version)"
   ]
  },
  {
   "cell_type": "markdown",
   "id": "797f1331-18d5-4868-b9e4-b5e2da4166ce",
   "metadata": {},
   "source": [
    "Since we know the coordinate/projection information from the vlrs, we can then use the x, y xoordinate values to crop the data at any area of interest."
   ]
  },
  {
   "cell_type": "code",
   "execution_count": 17,
   "id": "61835de0-eae6-40af-8295-096af05b4b25",
   "metadata": {},
   "outputs": [],
   "source": [
    "x_min = 1347137\n",
    "x_max = 1347247"
   ]
  },
  {
   "cell_type": "code",
   "execution_count": 18,
   "id": "4884284b-9059-454b-a6fc-23d15d84cde0",
   "metadata": {},
   "outputs": [],
   "source": [
    "y_min = 5093932\n",
    "y_max = 5093977"
   ]
  },
  {
   "cell_type": "markdown",
   "id": "cdfc2d87-5cfc-4c43-95ae-026417a11745",
   "metadata": {},
   "source": [
    "We need to create a mask to crop the data. This is exactly the same as we did in our previous labs. Although the original data is quite different (lidar data vs numerical modelling data), the fundamental library used in these python libraries are the same (numpy). Hence, the basic structure and operations are the same."
   ]
  },
  {
   "cell_type": "code",
   "execution_count": 19,
   "id": "bd10b1b9-ad72-43cd-b26d-03bbaafa9a27",
   "metadata": {},
   "outputs": [],
   "source": [
    "crop_area_mask=(las_data.x > x_min) & (las_data.x <x_max) & (las_data.y > y_min) & (las_data.y < y_max)"
   ]
  },
  {
   "cell_type": "markdown",
   "id": "a8410577-25c2-4b02-9a37-93df72165fa5",
   "metadata": {},
   "source": [
    "You can then use the mask to crop the las data and assign the data to the new las file. However, due to the limitation of the pylas, the scaled dimention (x,y,z) which is actually the true coordination system (NZTM2000) value is not copied correctly. You have to use the additional steps to assign the correct coordinate system value to the new las file.\n",
    "\n",
    "You should always just use x,y,x as the actual coordinate system. As noted on the [page](https://pylas.readthedocs.io/en/latest/intro.html), \"The dimensions ‘X’, ‘Y’, ‘Z’ are signed integers without the scale and offset applied. To access the coordinates as doubles simply use ‘x’, ‘y’ , ‘z’\"."
   ]
  },
  {
   "cell_type": "code",
   "execution_count": 22,
   "id": "2b96cb2f-1495-40c7-ab28-e52c83cae8c9",
   "metadata": {},
   "outputs": [],
   "source": [
    "new_file.points=las_data.points[crop_area_mask]\n",
    "new_file.vlrs = las_data.vlrs\n",
    "new_file.x = las_data.x[crop_area_mask] #assign the correct x,y,z value to the new las\n",
    "new_file.y = las_data.y[crop_area_mask]\n",
    "new_file.z = las_data.z[crop_area_mask]"
   ]
  },
  {
   "cell_type": "code",
   "execution_count": 23,
   "id": "c1ef88ec-2eae-41be-9270-692d9971548b",
   "metadata": {},
   "outputs": [
    {
     "data": {
      "text/plain": [
       "<LasData(1.2, point fmt: <PointFormat(3)>, 315595 points, 3 vlrs)>"
      ]
     },
     "execution_count": 23,
     "metadata": {},
     "output_type": "execute_result"
    }
   ],
   "source": [
    "new_file"
   ]
  },
  {
   "cell_type": "code",
   "execution_count": 24,
   "id": "e157eed8-3979-488d-bd44-7cfa78d603a6",
   "metadata": {},
   "outputs": [],
   "source": [
    "new_file.write(os.getcwd()+'/extracted_points.las')"
   ]
  },
  {
   "cell_type": "markdown",
   "id": "ac71b41f-f03b-4f14-9395-ac42a98238ad",
   "metadata": {},
   "source": [
    "You can now use other tools to view/modify the smaller cropped data.\n",
    "\n",
    "https://plas.io"
   ]
  },
  {
   "cell_type": "markdown",
   "id": "8454f3f7-6fd3-4f5e-a70f-e0dd7249e2bb",
   "metadata": {},
   "source": [
    "#### Task\n",
    "Now you know the Lidar data's projection and also the extent of the data. Can you find the village area and crop a region that contains the village area from the las file. Open that cropped area in plas.io."
   ]
  }
 ],
 "metadata": {
  "kernelspec": {
   "display_name": "Python (baseline)",
   "language": "python",
   "name": "baseline"
  },
  "language_info": {
   "codemirror_mode": {
    "name": "ipython",
    "version": 3
   },
   "file_extension": ".py",
   "mimetype": "text/x-python",
   "name": "python",
   "nbconvert_exporter": "python",
   "pygments_lexer": "ipython3",
   "version": "3.8.12"
  }
 },
 "nbformat": 4,
 "nbformat_minor": 5
}
